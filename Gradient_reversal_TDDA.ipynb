{
 "cells": [
  {
   "cell_type": "code",
   "execution_count": 1,
   "metadata": {},
   "outputs": [],
   "source": [
    "from silab.utils import pred_accuracy, split_pred_accuracy \n",
    "from silab.convarchs import simple_CNN, MLP, DANN, RDANN\n",
    "from silab.TDDAdata import TDDA_loader\n",
    "import torch\n",
    "import torch.nn as nn\n",
    "import torch.nn.functional as F\n",
    "import scipy.io as sio\n",
    "import os\n",
    "import numpy as np\n",
    "import pandas as pd\n",
    "from torch.utils.data import *\n",
    "from sklearn.model_selection import train_test_split\n",
    "\n",
    "import matplotlib.pyplot as plt\n",
    "import pylab\n",
    "from sklearn.manifold import TSNE\n",
    "import seaborn as sns"
   ]
  },
  {
   "cell_type": "code",
   "execution_count": 2,
   "metadata": {},
   "outputs": [],
   "source": [
    "if torch.cuda.is_available():\n",
    "    torch.cuda.set_device(0)"
   ]
  },
  {
   "cell_type": "code",
   "execution_count": 3,
   "metadata": {},
   "outputs": [],
   "source": [
    "PATH = 'L:/vibnet-hankooktire/TDDA_dataset/npy_data/'"
   ]
  },
  {
   "cell_type": "markdown",
   "metadata": {},
   "source": [
    "## Data loading"
   ]
  },
  {
   "cell_type": "code",
   "execution_count": 4,
   "metadata": {},
   "outputs": [],
   "source": [
    "tdda = TDDA_loader(PATH, split=0.5)"
   ]
  },
  {
   "cell_type": "code",
   "execution_count": 40,
   "metadata": {},
   "outputs": [],
   "source": [
    "tdda = TDDA_loader(PATH, split=0.80, rpm_flag = True, rpm_labels = [500,600,700,800,900,1000])"
   ]
  },
  {
   "cell_type": "code",
   "execution_count": null,
   "metadata": {
    "scrolled": true
   },
   "outputs": [],
   "source": [
    "train, test = tdda.getDataLoader()"
   ]
  },
  {
   "cell_type": "code",
   "execution_count": null,
   "metadata": {},
   "outputs": [],
   "source": [
    "srtrain, srtest, trtrain, trtest = tdda.getSplitDataLoader()"
   ]
  },
  {
   "cell_type": "markdown",
   "metadata": {},
   "source": [
    "### Simple CNN test"
   ]
  },
  {
   "cell_type": "markdown",
   "metadata": {},
   "source": [
    "Baseline test: supervised training with labels from all domain available"
   ]
  },
  {
   "cell_type": "code",
   "execution_count": 7,
   "metadata": {},
   "outputs": [
    {
     "name": "stdout",
     "output_type": "stream",
     "text": [
      "Number of examples in train and test dataloaders: train = 2400, test = 2400.\n",
      "Source, target domain data points in train dataloader: 782, 1618; test dataloader: 818, 1582.\n"
     ]
    }
   ],
   "source": [
    "train, test = tdda.getDataLoader(sz_sourceDomain=800)"
   ]
  },
  {
   "cell_type": "code",
   "execution_count": 8,
   "metadata": {
    "collapsed": true
   },
   "outputs": [
    {
     "name": "stdout",
     "output_type": "stream",
     "text": [
      "Loss: 0.40460141708701847\n",
      "Train accuracy on source domain: 0.4936061381074169\n",
      "Train accuracy on target domains (different rpm): 0.8250927070457355\n",
      "Test accuracy on source domain: 0.49266503667481665\n",
      "Test accuracy on target domains (different rpm): 0.8109987357774968\n",
      "Train accuracy on all: 0.7170833333333333\n",
      "Test accuracy on all: 0.7025\n",
      "Loss: 0.3193569636982866\n",
      "Train accuracy on source domain: 0.989769820971867\n",
      "Train accuracy on target domains (different rpm): 0.9981458590852905\n",
      "Test accuracy on source domain: 0.9828850855745721\n",
      "Test accuracy on target domains (different rpm): 0.9981036662452591\n",
      "Train accuracy on all: 0.9954166666666666\n",
      "Test accuracy on all: 0.9929166666666667\n",
      "Loss: 0.1069306210950017\n",
      "Train accuracy on source domain: 1.0\n",
      "Train accuracy on target domains (different rpm): 1.0\n",
      "Test accuracy on source domain: 0.9987775061124694\n",
      "Test accuracy on target domains (different rpm): 0.9993678887484198\n",
      "Train accuracy on all: 1.0\n",
      "Test accuracy on all: 0.9991666666666666\n",
      "Loss: 0.0702921324186027\n",
      "Train accuracy on source domain: 0.9808184143222506\n",
      "Train accuracy on target domains (different rpm): 0.9993819530284301\n",
      "Test accuracy on source domain: 0.9718826405867971\n",
      "Test accuracy on target domains (different rpm): 0.9987357774968394\n",
      "Train accuracy on all: 0.9933333333333333\n",
      "Test accuracy on all: 0.9895833333333334\n",
      "Loss: 0.38356966496258976\n",
      "Train accuracy on source domain: 0.4718670076726343\n",
      "Train accuracy on target domains (different rpm): 0.8646477132262052\n",
      "Test accuracy on source domain: 0.4621026894865526\n",
      "Test accuracy on target domains (different rpm): 0.8463969658659924\n",
      "Train accuracy on all: 0.7366666666666667\n",
      "Test accuracy on all: 0.7154166666666667\n",
      "Loss: 0.3238322282647714\n",
      "Train accuracy on source domain: 0.8746803069053708\n",
      "Train accuracy on target domains (different rpm): 0.9993819530284301\n",
      "Test accuracy on source domain: 0.8581907090464548\n",
      "Test accuracy on target domains (different rpm): 0.9974715549936789\n",
      "Train accuracy on all: 0.95875\n",
      "Test accuracy on all: 0.95\n",
      "Loss: 0.10298533019423485\n",
      "Train accuracy on source domain: 0.9104859335038363\n",
      "Train accuracy on target domains (different rpm): 0.9987639060568603\n",
      "Test accuracy on source domain: 0.8875305623471883\n",
      "Test accuracy on target domains (different rpm): 0.9981036662452591\n",
      "Train accuracy on all: 0.97\n",
      "Test accuracy on all: 0.9604166666666667\n",
      "Loss: 0.09958104577567428\n",
      "Train accuracy on source domain: 0.9987212276214834\n",
      "Train accuracy on target domains (different rpm): 1.0\n",
      "Test accuracy on source domain: 1.0\n",
      "Test accuracy on target domains (different rpm): 0.9936788874841972\n",
      "Train accuracy on all: 0.9995833333333334\n",
      "Test accuracy on all: 0.9958333333333333\n",
      "Loss: 0.3502345935665071\n",
      "Train accuracy on source domain: 0.7519181585677749\n",
      "Train accuracy on target domains (different rpm): 0.9888751545117429\n",
      "Test accuracy on source domain: 0.7371638141809291\n",
      "Test accuracy on target domains (different rpm): 0.9911504424778761\n",
      "Train accuracy on all: 0.9116666666666666\n",
      "Test accuracy on all: 0.9045833333333333\n",
      "Loss: 0.28055285193631424\n",
      "Train accuracy on source domain: 0.7480818414322251\n",
      "Train accuracy on target domains (different rpm): 0.9758961681087762\n",
      "Test accuracy on source domain: 0.7493887530562348\n",
      "Test accuracy on target domains (different rpm): 0.9633375474083439\n",
      "Train accuracy on all: 0.9016666666666666\n",
      "Test accuracy on all: 0.8904166666666666\n",
      "Loss: 0.11516410552710295\n",
      "Train accuracy on source domain: 1.0\n",
      "Train accuracy on target domains (different rpm): 0.9981458590852905\n",
      "Test accuracy on source domain: 1.0\n",
      "Test accuracy on target domains (different rpm): 0.9993678887484198\n",
      "Train accuracy on all: 0.99875\n",
      "Test accuracy on all: 0.9995833333333334\n",
      "Loss: 0.07518502886686475\n",
      "Train accuracy on source domain: 1.0\n",
      "Train accuracy on target domains (different rpm): 0.9981458590852905\n",
      "Test accuracy on source domain: 1.0\n",
      "Test accuracy on target domains (different rpm): 0.9968394437420987\n",
      "Train accuracy on all: 0.99875\n",
      "Test accuracy on all: 0.9979166666666667\n",
      "Loss: 0.38750813077203927\n",
      "Train accuracy on source domain: 0.25191815856777494\n",
      "Train accuracy on target domains (different rpm): 0.48393077873918416\n",
      "Test accuracy on source domain: 0.24816625916870416\n",
      "Test accuracy on target domains (different rpm): 0.5037926675094817\n",
      "Train accuracy on all: 0.4083333333333333\n",
      "Test accuracy on all: 0.4166666666666667\n",
      "Loss: 0.5371516875131056\n",
      "Train accuracy on source domain: 0.8785166240409207\n",
      "Train accuracy on target domains (different rpm): 0.9758961681087762\n",
      "Test accuracy on source domain: 0.8801955990220048\n",
      "Test accuracy on target domains (different rpm): 0.9677623261694058\n",
      "Train accuracy on all: 0.9441666666666667\n",
      "Test accuracy on all: 0.9379166666666666\n",
      "Loss: 0.16463614596799017\n",
      "Train accuracy on source domain: 0.8516624040920716\n",
      "Train accuracy on target domains (different rpm): 0.9993819530284301\n",
      "Test accuracy on source domain: 0.8618581907090465\n",
      "Test accuracy on target domains (different rpm): 0.9949431099873578\n",
      "Train accuracy on all: 0.95125\n",
      "Test accuracy on all: 0.9495833333333333\n",
      "Loss: 0.11619831400550902\n",
      "Train accuracy on source domain: 0.9961636828644501\n",
      "Train accuracy on target domains (different rpm): 1.0\n",
      "Test accuracy on source domain: 0.9951100244498777\n",
      "Test accuracy on target domains (different rpm): 0.9993678887484198\n",
      "Train accuracy on all: 0.99875\n",
      "Test accuracy on all: 0.9979166666666667\n",
      "Loss: 0.4000650052651763\n",
      "Train accuracy on source domain: 0.2531969309462916\n",
      "Train accuracy on target domains (different rpm): 0.934487021013597\n",
      "Test accuracy on source domain: 0.2506112469437653\n",
      "Test accuracy on target domains (different rpm): 0.9190897597977244\n",
      "Train accuracy on all: 0.7125\n",
      "Test accuracy on all: 0.69125\n",
      "Loss: 0.3298095142096281\n",
      "Train accuracy on source domain: 0.9309462915601023\n",
      "Train accuracy on target domains (different rpm): 0.9622991347342398\n",
      "Test accuracy on source domain: 0.9193154034229829\n",
      "Test accuracy on target domains (different rpm): 0.9469026548672567\n",
      "Train accuracy on all: 0.9520833333333333\n",
      "Test accuracy on all: 0.9375\n",
      "Loss: 0.07077254040539264\n",
      "Train accuracy on source domain: 0.9514066496163683\n",
      "Train accuracy on target domains (different rpm): 1.0\n",
      "Test accuracy on source domain: 0.9400977995110025\n",
      "Test accuracy on target domains (different rpm): 1.0\n",
      "Train accuracy on all: 0.9841666666666666\n",
      "Test accuracy on all: 0.9795833333333334\n",
      "Loss: 0.04937879991531372\n",
      "Train accuracy on source domain: 0.9987212276214834\n",
      "Train accuracy on target domains (different rpm): 0.9993819530284301\n",
      "Test accuracy on source domain: 0.9951100244498777\n",
      "Test accuracy on target domains (different rpm): 1.0\n",
      "Train accuracy on all: 0.9991666666666666\n",
      "Test accuracy on all: 0.9983333333333333\n",
      "Loss: 0.36877567449212073\n",
      "Train accuracy on source domain: 0.25191815856777494\n",
      "Train accuracy on target domains (different rpm): 0.642150803461063\n",
      "Test accuracy on source domain: 0.24816625916870416\n",
      "Test accuracy on target domains (different rpm): 0.622629582806574\n",
      "Train accuracy on all: 0.515\n",
      "Test accuracy on all: 0.495\n",
      "Loss: 0.44321734400093554\n",
      "Train accuracy on source domain: 0.5818414322250639\n",
      "Train accuracy on target domains (different rpm): 0.9981458590852905\n",
      "Test accuracy on source domain: 0.597799511002445\n",
      "Test accuracy on target domains (different rpm): 0.9987357774968394\n",
      "Train accuracy on all: 0.8625\n",
      "Test accuracy on all: 0.8620833333333333\n",
      "Loss: 0.12571494844928383\n",
      "Train accuracy on source domain: 0.9578005115089514\n",
      "Train accuracy on target domains (different rpm): 1.0\n",
      "Test accuracy on source domain: 0.9523227383863081\n",
      "Test accuracy on target domains (different rpm): 0.9974715549936789\n",
      "Train accuracy on all: 0.98625\n",
      "Test accuracy on all: 0.9820833333333333\n",
      "Loss: 0.0839122289903462\n",
      "Train accuracy on source domain: 0.9245524296675192\n",
      "Train accuracy on target domains (different rpm): 0.9758961681087762\n",
      "Test accuracy on source domain: 0.9266503667481663\n",
      "Test accuracy on target domains (different rpm): 0.9759797724399494\n",
      "Train accuracy on all: 0.9591666666666666\n",
      "Test accuracy on all: 0.9591666666666666\n",
      "Loss: 0.4236752565577626\n",
      "Train accuracy on source domain: 0.41048593350383633\n",
      "Train accuracy on target domains (different rpm): 0.49752781211372066\n",
      "Test accuracy on source domain: 0.3960880195599022\n",
      "Test accuracy on target domains (different rpm): 0.5025284450063211\n"
     ]
    },
    {
     "name": "stdout",
     "output_type": "stream",
     "text": [
      "Train accuracy on all: 0.4691666666666667\n",
      "Test accuracy on all: 0.46625\n",
      "Loss: 0.3925807218924165\n",
      "Train accuracy on source domain: 0.7838874680306905\n",
      "Train accuracy on target domains (different rpm): 0.9758961681087762\n",
      "Test accuracy on source domain: 0.8080684596577017\n",
      "Test accuracy on target domains (different rpm): 0.9627054361567636\n",
      "Train accuracy on all: 0.9133333333333333\n",
      "Test accuracy on all: 0.91\n",
      "Loss: 0.13834858444333076\n",
      "Train accuracy on source domain: 0.989769820971867\n",
      "Train accuracy on target domains (different rpm): 0.9888751545117429\n",
      "Test accuracy on source domain: 0.988997555012225\n",
      "Test accuracy on target domains (different rpm): 0.9860935524652339\n",
      "Train accuracy on all: 0.9891666666666666\n",
      "Test accuracy on all: 0.9870833333333333\n",
      "Loss: 0.1001252414137125\n",
      "Train accuracy on source domain: 0.7570332480818415\n",
      "Train accuracy on target domains (different rpm): 0.9864029666254636\n",
      "Test accuracy on source domain: 0.7628361858190709\n",
      "Test accuracy on target domains (different rpm): 0.9804045512010113\n",
      "Train accuracy on all: 0.9116666666666666\n",
      "Test accuracy on all: 0.90625\n",
      "Loss: 0.4032477049045265\n",
      "Train accuracy on source domain: 0.5460358056265985\n",
      "Train accuracy on target domains (different rpm): 0.6996291718170581\n",
      "Test accuracy on source domain: 0.5476772616136919\n",
      "Test accuracy on target domains (different rpm): 0.6814159292035398\n",
      "Train accuracy on all: 0.6495833333333333\n",
      "Test accuracy on all: 0.6358333333333334\n",
      "Loss: 0.3197224884289317\n",
      "Train accuracy on source domain: 0.9808184143222506\n",
      "Train accuracy on target domains (different rpm): 0.9975278121137207\n",
      "Test accuracy on source domain: 0.9743276283618582\n",
      "Test accuracy on target domains (different rpm): 0.9981036662452591\n",
      "Train accuracy on all: 0.9920833333333333\n",
      "Test accuracy on all: 0.99\n",
      "Loss: 0.03830675321049057\n",
      "Train accuracy on source domain: 0.9718670076726342\n",
      "Train accuracy on target domains (different rpm): 1.0\n",
      "Test accuracy on source domain: 0.9706601466992665\n",
      "Test accuracy on target domains (different rpm): 1.0\n",
      "Train accuracy on all: 0.9908333333333333\n",
      "Test accuracy on all: 0.99\n",
      "Loss: 0.0866903493431164\n",
      "Train accuracy on source domain: 0.9757033248081841\n",
      "Train accuracy on target domains (different rpm): 0.9987639060568603\n",
      "Test accuracy on source domain: 0.9633251833740831\n",
      "Test accuracy on target domains (different rpm): 0.9962073324905183\n",
      "Train accuracy on all: 0.99125\n",
      "Test accuracy on all: 0.985\n",
      "Loss: 0.3384191771224141\n",
      "Train accuracy on source domain: 0.6764705882352942\n",
      "Train accuracy on target domains (different rpm): 0.9684796044499382\n",
      "Test accuracy on source domain: 0.6723716381418093\n",
      "Test accuracy on target domains (different rpm): 0.965865992414665\n",
      "Train accuracy on all: 0.8733333333333333\n",
      "Test accuracy on all: 0.8658333333333333\n",
      "Loss: 0.26436941068433223\n",
      "Train accuracy on source domain: 1.0\n",
      "Train accuracy on target domains (different rpm): 0.9987639060568603\n",
      "Test accuracy on source domain: 0.9975550122249389\n",
      "Test accuracy on target domains (different rpm): 0.9993678887484198\n",
      "Train accuracy on all: 0.9991666666666666\n",
      "Test accuracy on all: 0.99875\n",
      "Loss: 0.0014316259026527405\n",
      "Train accuracy on source domain: 1.0\n",
      "Train accuracy on target domains (different rpm): 1.0\n",
      "Test accuracy on source domain: 0.9987775061124694\n",
      "Test accuracy on target domains (different rpm): 0.9993678887484198\n",
      "Train accuracy on all: 1.0\n",
      "Test accuracy on all: 0.9991666666666666\n",
      "Loss: 0.06149837835878134\n",
      "Train accuracy on source domain: 0.9987212276214834\n",
      "Train accuracy on target domains (different rpm): 1.0\n",
      "Test accuracy on source domain: 0.9963325183374083\n",
      "Test accuracy on target domains (different rpm): 0.9974715549936789\n",
      "Train accuracy on all: 0.9995833333333334\n",
      "Test accuracy on all: 0.9970833333333333\n",
      "Loss: 0.38779164766520263\n",
      "Train accuracy on source domain: 0.39258312020460356\n",
      "Train accuracy on target domains (different rpm): 0.5710754017305315\n",
      "Test accuracy on source domain: 0.42053789731051344\n",
      "Test accuracy on target domains (different rpm): 0.5467762326169405\n",
      "Train accuracy on all: 0.5129166666666667\n",
      "Test accuracy on all: 0.50375\n",
      "Loss: 0.3756762316264212\n",
      "Train accuracy on source domain: 0.9245524296675192\n",
      "Train accuracy on target domains (different rpm): 0.9938195302843016\n",
      "Test accuracy on source domain: 0.921760391198044\n",
      "Test accuracy on target domains (different rpm): 0.9936788874841972\n",
      "Train accuracy on all: 0.97125\n",
      "Test accuracy on all: 0.9691666666666666\n",
      "Loss: 0.1174247379899025\n",
      "Train accuracy on source domain: 0.9884910485933504\n",
      "Train accuracy on target domains (different rpm): 0.9975278121137207\n",
      "Test accuracy on source domain: 0.9902200488997555\n",
      "Test accuracy on target domains (different rpm): 0.9981036662452591\n",
      "Train accuracy on all: 0.9945833333333334\n",
      "Test accuracy on all: 0.9954166666666666\n",
      "Loss: 0.09874387982080225\n",
      "Train accuracy on source domain: 0.8631713554987213\n",
      "Train accuracy on target domains (different rpm): 0.9870210135970334\n",
      "Test accuracy on source domain: 0.8569682151589242\n",
      "Test accuracy on target domains (different rpm): 0.9860935524652339\n",
      "Train accuracy on all: 0.9466666666666667\n",
      "Test accuracy on all: 0.9420833333333334\n"
     ]
    }
   ],
   "source": [
    "exp = 0\n",
    "hash_exp = {}\n",
    "\n",
    "for exp in range(10):\n",
    "    m = simple_CNN([1,3,6,12,24],[1584,4])\n",
    "    opt = torch.optim.Adam(m.parameters(), weight_decay= 0.00, lr=0.001)\n",
    "    for epoch in range(2):\n",
    "        run_loss = 0\n",
    "        count = 0 \n",
    "        for i, data in enumerate(train):\n",
    "            x, y, domain_label = data\n",
    "            opt.zero_grad()       \n",
    "            y_hat = m(x)\n",
    "            loss = F.nll_loss(y_hat,y)\n",
    "            # if sample comes from target and not source ignore the loss\n",
    "            if domain_label == 0:\n",
    "                count += 1\n",
    "            loss.backward()\n",
    "            opt.step()\n",
    "            run_loss += loss.item()\n",
    "            if i % 1000 == 0 and i != 0:\n",
    "                print('Loss: {}'.format(run_loss/(i)))\n",
    "                print('Train accuracy on source domain: {}'.format(pred_accuracy(m, train, len(train)), False,True))\n",
    "                print('Train accuracy on target domains (different rpm): {}'.format(pred_accuracy(m, train, len(train),True,False)))\n",
    "                print('Test accuracy on source domain: {}'.format(pred_accuracy(m, test, len(test),False,True))) \n",
    "                print('Test accuracy on target domains (different rpm): {}'.format(pred_accuracy(m, test, len(test),True,False)))\n",
    "                print('Train accuracy on all: {}'.format(pred_accuracy(m, train, len(train),True,True))) \n",
    "                print('Test accuracy on all: {}'.format(pred_accuracy(m, test, len(test),True,True)))\n",
    "    hash_exp[exp] = [pred_accuracy(m, train, len(train),True,False),pred_accuracy(m, test, len(test),True,False),pred_accuracy(m, test, len(test),True,True)]        "
   ]
  },
  {
   "cell_type": "code",
   "execution_count": 11,
   "metadata": {},
   "outputs": [
    {
     "name": "stdout",
     "output_type": "stream",
     "text": [
      "[[0.9820766378244746, 0.9747155499367889, 0.9770833333333333], [1.0, 0.9993678887484198, 0.9995833333333334], [1.0, 1.0, 1.0], [0.9993819530284301, 0.9962073324905183, 0.98875], [0.8794808405438813, 0.8710493046776233, 0.8604166666666667], [1.0, 0.9993678887484198, 0.9979166666666667], [1.0, 0.9993678887484198, 0.9991666666666666], [0.9944375772558715, 0.9873577749683944, 0.9904166666666666], [0.9981458590852905, 0.9993678887484198, 0.9979166666666667], [1.0, 0.9993678887484198, 0.99875]]\n"
     ]
    }
   ],
   "source": [
    "print([hash_exp[i] for i in range(10)])"
   ]
  },
  {
   "cell_type": "markdown",
   "metadata": {},
   "source": [
    "### DA CNN test (unsupervised)"
   ]
  },
  {
   "cell_type": "markdown",
   "metadata": {},
   "source": [
    "### 2 domains"
   ]
  },
  {
   "cell_type": "code",
   "execution_count": 25,
   "metadata": {},
   "outputs": [
    {
     "name": "stdout",
     "output_type": "stream",
     "text": [
      "Number of examples in train and test dataloaders: train = 1119, test = 481.\n",
      "Source, target domain data points in train dataloader: 550, 569; test dataloader: 250, 231.\n"
     ]
    }
   ],
   "source": [
    "tdda = TDDA_loader(PATH, split=0.7)\n",
    "train, test = tdda.getDataLoader(sz_sourceDomain=800)"
   ]
  },
  {
   "cell_type": "code",
   "execution_count": null,
   "metadata": {},
   "outputs": [],
   "source": [
    "exp = 0\n",
    "hash_exp = {}\n",
    "\n",
    "for exp in range(1):\n",
    "    m = simple_CNN([1,3,6,12,24],[1584,4])\n",
    "    opt = torch.optim.Adam(m.parameters(), weight_decay= 0.0015, lr=0.001)\n",
    "    for epoch in range(2):\n",
    "        run_loss = 0\n",
    "        count = 0 \n",
    "        for i, data in enumerate(train):\n",
    "            x, y, domain_label = data\n",
    "            opt.zero_grad()       \n",
    "            y_hat = m(x)\n",
    "            loss = F.nll_loss(y_hat,y)\n",
    "            # if sample comes from target and not source ignore the loss\n",
    "            if domain_label == 0:\n",
    "                count += 1\n",
    "            else:\n",
    "                loss.backward()\n",
    "                opt.step()\n",
    "                run_loss += loss.item()\n",
    "            if i % 10000 == 0 and i != 0:\n",
    "                print('Loss: {}'.format(run_loss/(i-count)))\n",
    "                print('Train accuracy on source domain: {}'.format(pred_accuracy(m, train, len(train)), False,True))\n",
    "                print('Train accuracy on target domains (different rpm): {}'.format(pred_accuracy(m, train, len(train),True,False)))\n",
    "                print('Test accuracy on source domain: {}'.format(pred_accuracy(m, test, len(test),False,True))) \n",
    "                print('Test accuracy on target domains (different rpm): {}'.format(pred_accuracy(m, test, len(test),True,False)))\n",
    "                print('Train accuracy on all: {}'.format(pred_accuracy(m, train, len(train),True,True))) \n",
    "                print('Test accuracy on all: {}'.format(pred_accuracy(m, test, len(test),True,True)))\n",
    "                \n",
    "    hash_exp[exp] = [pred_accuracy(m, train, len(train),True,False),pred_accuracy(m, test, len(test),True,False),pred_accuracy(m, test, len(test),True,True)] "
   ]
  },
  {
   "cell_type": "code",
   "execution_count": 8,
   "metadata": {},
   "outputs": [
    {
     "name": "stdout",
     "output_type": "stream",
     "text": [
      "[[0.19491525423728814, 0.18292682926829268, 0.446875], [0.24364406779661016, 0.2530487804878049, 0.6078125], [0.2478813559322034, 0.2530487804878049, 0.6171875], [0.15466101694915255, 0.17378048780487804, 0.5765625], [0.2478813559322034, 0.25, 0.615625]]\n"
     ]
    }
   ],
   "source": [
    "print([hash_exp[i] for i in range(5)])"
   ]
  },
  {
   "cell_type": "markdown",
   "metadata": {},
   "source": [
    "### 3 domains"
   ]
  },
  {
   "cell_type": "code",
   "execution_count": 11,
   "metadata": {},
   "outputs": [
    {
     "name": "stdout",
     "output_type": "stream",
     "text": [
      "Number of examples in train and test dataloaders: train = 1679, test = 721.\n",
      "Source, target domain data points in train dataloader: 575, 1104; test dataloader: 225, 496.\n"
     ]
    }
   ],
   "source": [
    "tdda = TDDA_loader(PATH, split=0.7)\n",
    "train, test = tdda.getDataLoader(sz_sourceDomain=800)"
   ]
  },
  {
   "cell_type": "code",
   "execution_count": 12,
   "metadata": {},
   "outputs": [],
   "source": [
    "exp = 0\n",
    "hash_exp = {}\n",
    "\n",
    "for exp in range(5):\n",
    "    m = simple_CNN([1,3,6,12,24],[1584,4])\n",
    "    opt = torch.optim.Adam(m.parameters(), weight_decay= 0.0015, lr=0.001)\n",
    "    for epoch in range(2):\n",
    "        run_loss = 0\n",
    "        count = 0 \n",
    "        for i, data in enumerate(train):\n",
    "            x, y, domain_label = data\n",
    "            opt.zero_grad()       \n",
    "            y_hat = m(x)\n",
    "            loss = F.nll_loss(y_hat,y)\n",
    "            # if sample comes from target and not source ignore the loss\n",
    "            if domain_label == 0:\n",
    "                count += 1\n",
    "            else:\n",
    "                loss.backward()\n",
    "                opt.step()\n",
    "                run_loss += loss.item()\n",
    "            if i % 10000 == 0 and i != 0:\n",
    "                print('Loss: {}'.format(run_loss/(i-count)))\n",
    "                print('Train accuracy on source domain: {}'.format(pred_accuracy(m, train, len(train)), False,True))\n",
    "                print('Train accuracy on target domains (different rpm): {}'.format(pred_accuracy(m, train, len(train),True,False)))\n",
    "                print('Test accuracy on source domain: {}'.format(pred_accuracy(m, test, len(test),False,True))) \n",
    "                print('Test accuracy on target domains (different rpm): {}'.format(pred_accuracy(m, test, len(test),True,False)))\n",
    "                print('Train accuracy on all: {}'.format(pred_accuracy(m, train, len(train),True,True))) \n",
    "                print('Test accuracy on all: {}'.format(pred_accuracy(m, test, len(test),True,True)))\n",
    "    \n",
    "    hash_exp[exp] = [pred_accuracy(m, train, len(train),True,False),pred_accuracy(m, test, len(test),True,False),pred_accuracy(m, test, len(test),True,True)] "
   ]
  },
  {
   "cell_type": "code",
   "execution_count": 13,
   "metadata": {},
   "outputs": [
    {
     "name": "stdout",
     "output_type": "stream",
     "text": [
      "[[0.2346014492753623, 0.24798387096774194, 0.42718446601941745], [0.23097826086956522, 0.24596774193548387, 0.3883495145631068], [0.2418478260869565, 0.2540322580645161, 0.361997226074896], [0.23822463768115942, 0.24596774193548387, 0.4812760055478502], [0.19927536231884058, 0.21370967741935484, 0.4563106796116505]]\n"
     ]
    }
   ],
   "source": [
    "print([hash_exp[i] for i in range(5)])"
   ]
  },
  {
   "cell_type": "markdown",
   "metadata": {},
   "source": [
    "### 4 domains"
   ]
  },
  {
   "cell_type": "code",
   "execution_count": 16,
   "metadata": {},
   "outputs": [
    {
     "name": "stdout",
     "output_type": "stream",
     "text": [
      "Number of examples in train and test dataloaders: train = 2239, test = 961.\n",
      "Source, target domain data points in train dataloader: 564, 1675; test dataloader: 236, 725.\n"
     ]
    }
   ],
   "source": [
    "tdda = TDDA_loader(PATH, split=0.7)\n",
    "train, test = tdda.getDataLoader(sz_sourceDomain=800)"
   ]
  },
  {
   "cell_type": "code",
   "execution_count": 17,
   "metadata": {},
   "outputs": [],
   "source": [
    "exp = 0\n",
    "hash_exp = {}\n",
    "\n",
    "for exp in range(5):\n",
    "    m = simple_CNN([1,3,6,12,24],[1584,4])\n",
    "    opt = torch.optim.Adam(m.parameters(), weight_decay= 0.0015, lr=0.001)\n",
    "    for epoch in range(2):\n",
    "        run_loss = 0\n",
    "        count = 0 \n",
    "        for i, data in enumerate(train):\n",
    "            x, y, domain_label = data\n",
    "            opt.zero_grad()       \n",
    "            y_hat = m(x)\n",
    "            loss = F.nll_loss(y_hat,y)\n",
    "            # if sample comes from target and not source ignore the loss\n",
    "            if domain_label == 0:\n",
    "                count += 1\n",
    "            else:\n",
    "                loss.backward()\n",
    "                opt.step()\n",
    "                run_loss += loss.item()\n",
    "            if i % 100000 == 0 and i != 0:\n",
    "                print('Loss: {}'.format(run_loss/(i-count)))\n",
    "                print('Train accuracy on source domain: {}'.format(pred_accuracy(m, train, len(train)), False,True))\n",
    "                print('Train accuracy on target domains (different rpm): {}'.format(pred_accuracy(m, train, len(train),True,False)))\n",
    "                print('Test accuracy on source domain: {}'.format(pred_accuracy(m, test, len(test),False,True))) \n",
    "                print('Test accuracy on target domains (different rpm): {}'.format(pred_accuracy(m, test, len(test),True,False)))\n",
    "                print('Train accuracy on all: {}'.format(pred_accuracy(m, train, len(train),True,True))) \n",
    "                print('Test accuracy on all: {}'.format(pred_accuracy(m, test, len(test),True,True)))\n",
    "    hash_exp[exp] = [pred_accuracy(m, train, len(train),True,False),pred_accuracy(m, test, len(test),True,False),pred_accuracy(m, test, len(test),True,True)] "
   ]
  },
  {
   "cell_type": "code",
   "execution_count": 18,
   "metadata": {},
   "outputs": [
    {
     "name": "stdout",
     "output_type": "stream",
     "text": [
      "[[0.2734328358208955, 0.23310344827586207, 0.4006243496357961], [0.2, 0.1820689655172414, 0.3267429760665973], [0.25671641791044775, 0.2317241379310345, 0.42039542143600417], [0.1582089552238806, 0.18482758620689654, 0.32049947970863685], [0.2573134328358209, 0.23310344827586207, 0.4068678459937565]]\n"
     ]
    }
   ],
   "source": [
    "print([hash_exp[i] for i in range(5)])"
   ]
  },
  {
   "cell_type": "markdown",
   "metadata": {},
   "source": [
    "### 5 domains"
   ]
  },
  {
   "cell_type": "code",
   "execution_count": 21,
   "metadata": {},
   "outputs": [
    {
     "name": "stdout",
     "output_type": "stream",
     "text": [
      "Number of examples in train and test dataloaders: train = 2799, test = 1201.\n",
      "Source, target domain data points in train dataloader: 561, 2238; test dataloader: 239, 962.\n"
     ]
    }
   ],
   "source": [
    "tdda = TDDA_loader(PATH, split=0.7)\n",
    "train, test = tdda.getDataLoader(sz_sourceDomain=800)"
   ]
  },
  {
   "cell_type": "code",
   "execution_count": 22,
   "metadata": {},
   "outputs": [],
   "source": [
    "exp = 0\n",
    "hash_exp = {}\n",
    "\n",
    "for exp in range(5):\n",
    "    m = simple_CNN([1,3,6,12,24],[1584,4])\n",
    "    opt = torch.optim.Adam(m.parameters(), weight_decay= 0.0015, lr=0.001)\n",
    "    for epoch in range(2):\n",
    "        run_loss = 0\n",
    "        count = 0 \n",
    "        for i, data in enumerate(train):\n",
    "            x, y, domain_label = data\n",
    "            opt.zero_grad()       \n",
    "            y_hat = m(x)\n",
    "            loss = F.nll_loss(y_hat,y)\n",
    "            # if sample comes from target and not source ignore the loss\n",
    "            if domain_label == 0:\n",
    "                count += 1\n",
    "            else:\n",
    "                loss.backward()\n",
    "                opt.step()\n",
    "                run_loss += loss.item()\n",
    "            if i % 10000 == 0 and i != 0:\n",
    "                print('Loss: {}'.format(run_loss/(i-count)))\n",
    "                print('Train accuracy on source domain: {}'.format(pred_accuracy(m, train, len(train)), False,True))\n",
    "                print('Train accuracy on target domains (different rpm): {}'.format(pred_accuracy(m, train, len(train),True,False)))\n",
    "                print('Test accuracy on source domain: {}'.format(pred_accuracy(m, test, len(test),False,True))) \n",
    "                print('Test accuracy on target domains (different rpm): {}'.format(pred_accuracy(m, test, len(test),True,False)))\n",
    "                print('Train accuracy on all: {}'.format(pred_accuracy(m, train, len(train),True,True))) \n",
    "                print('Test accuracy on all: {}'.format(pred_accuracy(m, test, len(test),True,True)))\n",
    "    hash_exp[exp] = [pred_accuracy(m, train, len(train),True,False),pred_accuracy(m, test, len(test),True,False),pred_accuracy(m, test, len(test),True,True)] \n",
    "        "
   ]
  },
  {
   "cell_type": "code",
   "execution_count": 23,
   "metadata": {},
   "outputs": [
    {
     "name": "stdout",
     "output_type": "stream",
     "text": [
      "[[0.2658623771224307, 0.2588357588357588, 0.39217318900915904], [0.26630920464700625, 0.2796257796257796, 0.2964196502914238], [0.2453083109919571, 0.25675675675675674, 0.4029975020815987], [0.24754244861483468, 0.26195426195426197, 0.3039134054954205], [0.24039320822162646, 0.2598752598752599, 0.3688592839300583]]\n"
     ]
    }
   ],
   "source": [
    "print([hash_exp[i] for i in range(5)])"
   ]
  },
  {
   "cell_type": "markdown",
   "metadata": {},
   "source": [
    "### 6 domains"
   ]
  },
  {
   "cell_type": "code",
   "execution_count": 27,
   "metadata": {},
   "outputs": [
    {
     "name": "stdout",
     "output_type": "stream",
     "text": [
      "Number of examples in train and test dataloaders: train = 3359, test = 1441.\n",
      "Source, target domain data points in train dataloader: 581, 2778; test dataloader: 219, 1222.\n"
     ]
    }
   ],
   "source": [
    "tdda = TDDA_loader(PATH, split=0.7)\n",
    "train, test = tdda.getDataLoader(sz_sourceDomain=800)"
   ]
  },
  {
   "cell_type": "code",
   "execution_count": 28,
   "metadata": {},
   "outputs": [],
   "source": [
    "exp = 0\n",
    "hash_exp = {}\n",
    "\n",
    "for exp in range(5):\n",
    "    m = simple_CNN([1,3,6,12,24],[1584,4])\n",
    "    opt = torch.optim.Adam(m.parameters(), weight_decay= 0.0015, lr=0.001)\n",
    "    for epoch in range(2):\n",
    "        run_loss = 0\n",
    "        count = 0 \n",
    "        for i, data in enumerate(train):\n",
    "            x, y, domain_label = data\n",
    "            opt.zero_grad()       \n",
    "            y_hat = m(x)\n",
    "            loss = F.nll_loss(y_hat,y)\n",
    "            # if sample comes from target and not source ignore the loss\n",
    "            if domain_label == 0:\n",
    "                count += 1\n",
    "            else:\n",
    "                loss.backward()\n",
    "                opt.step()\n",
    "                run_loss += loss.item()\n",
    "            if i % 100000 == 0 and i != 0:\n",
    "                print('Loss: {}'.format(run_loss/(i-count)))\n",
    "                print('Train accuracy on source domain: {}'.format(pred_accuracy(m, train, len(train)), False,True))\n",
    "                print('Train accuracy on target domains (different rpm): {}'.format(pred_accuracy(m, train, len(train),True,False)))\n",
    "                print('Test accuracy on source domain: {}'.format(pred_accuracy(m, test, len(test),False,True))) \n",
    "                print('Test accuracy on target domains (different rpm): {}'.format(pred_accuracy(m, test, len(test),True,False)))\n",
    "                print('Train accuracy on all: {}'.format(pred_accuracy(m, train, len(train),True,True))) \n",
    "                print('Test accuracy on all: {}'.format(pred_accuracy(m, test, len(test),True,True)))\n",
    "    hash_exp[exp] = [pred_accuracy(m, train, len(train),True,False),pred_accuracy(m, test, len(test),True,False),pred_accuracy(m, test, len(test),True,True)]"
   ]
  },
  {
   "cell_type": "code",
   "execution_count": 29,
   "metadata": {},
   "outputs": [
    {
     "name": "stdout",
     "output_type": "stream",
     "text": [
      "[[0.24154067674586033, 0.22749590834697217, 0.29285218598195695], [0.24802015838732902, 0.23731587561374795, 0.24011103400416378], [0.2613390928725702, 0.23895253682487724, 0.24149895905621097], [0.2973362131029518, 0.2806873977086743, 0.2768910478834143], [0.2580993520518359, 0.2332242225859247, 0.2387231089521166]]\n"
     ]
    }
   ],
   "source": [
    "print([hash_exp[i] for i in range(5)])"
   ]
  },
  {
   "cell_type": "markdown",
   "metadata": {},
   "source": [
    "## DANN - 2 domains "
   ]
  },
  {
   "cell_type": "markdown",
   "metadata": {},
   "source": [
    "Experiment with two domains only: 500, 600\n",
    "\n",
    "Observations: \n",
    "1. If latent vector is not big enough, training troubles!"
   ]
  },
  {
   "cell_type": "code",
   "execution_count": 97,
   "metadata": {},
   "outputs": [
    {
     "name": "stdout",
     "output_type": "stream",
     "text": [
      "Number of examples in source domain train and test dataloaders: train = 1, test = 1.\n",
      "Number of examples in target domain train and test dataloaders: train = 1, test = 1.\n"
     ]
    }
   ],
   "source": [
    "tdda = TDDA_loader(PATH, split=0.1)\n",
    "srtrain, srtest, trtrain, trtest = tdda.getSplitDataLoader(sz_sourceDomain=800, batch_size=10000)"
   ]
  },
  {
   "cell_type": "code",
   "execution_count": 94,
   "metadata": {},
   "outputs": [
    {
     "name": "stdout",
     "output_type": "stream",
     "text": [
      "Number of examples in source domain train and test dataloaders: train = 640, test = 160.\n",
      "Number of examples in target domain train and test dataloaders: train = 1280, test = 320.\n"
     ]
    }
   ],
   "source": [
    "tdda = TDDA_loader(PATH, split=0.8)\n",
    "srtrain, srtest, trtrain, trtest = tdda.getSplitDataLoader(sz_sourceDomain=800, batch_size=1)"
   ]
  },
  {
   "cell_type": "code",
   "execution_count": 96,
   "metadata": {
    "scrolled": true
   },
   "outputs": [
    {
     "name": "stdout",
     "output_type": "stream",
     "text": [
      "Final results:\n",
      "Label loss: 0.0022368431091308594, domain loss (source): 0.6931356191635132, domain loss (target): 0.6931586861610413\n",
      "Train accuracy on source domain: 1.0\n",
      "Train accuracy on target domains (different rpm): 0.29453125\n",
      "Test accuracy on source domain: 1.0\n",
      "Test accuracy on target domains (different rpm): 0.278125\n",
      "Experiment number: 0\n"
     ]
    }
   ],
   "source": [
    "exp = 0\n",
    "for exp in range(1):\n",
    "    m1 = simple_CNN([1,3,6,12,24,48],[])\n",
    "    m2 = simple_CNN([1,3,6,12,24,48,96],[1152,4])\n",
    "    m3 = simple_CNN([1,3],[2001,2])\n",
    "\n",
    "    m = DANN(m1,m2,m3)\n",
    "    opt = torch.optim.Adam(m.parameters(), weight_decay= 0.00015, lr=0.002)\n",
    "    m.domain_fit(optimizer = opt, epochs = 3, sourceTrain = srtrain, sourceTest = srtest, targetTrain = trtrain,\\\n",
    "             targetTest = trtest, every_iter=5000, dom_reg_l=[1,1,1], max_iterations= 1101)\n",
    "    print('Experiment number: {}'.format(exp))"
   ]
  },
  {
   "cell_type": "code",
   "execution_count": 81,
   "metadata": {},
   "outputs": [
    {
     "name": "stdout",
     "output_type": "stream",
     "text": [
      "torch.Size([480, 1201]) torch.Size([480])\n",
      "torch.Size([320, 1201]) torch.Size([320])\n",
      "torch.Size([960, 1201]) torch.Size([960])\n",
      "torch.Size([640, 1201]) torch.Size([640])\n"
     ]
    }
   ],
   "source": [
    "for i,d in enumerate(srtrain):\n",
    "    x,y = next(iter(srtrain))\n",
    "    print(x.shape,y.shape)\n",
    "    x,y = next(iter(srtest))\n",
    "    print(x.shape,y.shape)\n",
    "    x,y = next(iter(trtrain))\n",
    "    print(x.shape,y.shape)\n",
    "    x,y = next(iter(trtest))\n",
    "    print(x.shape,y.shape)"
   ]
  },
  {
   "cell_type": "code",
   "execution_count": 98,
   "metadata": {},
   "outputs": [],
   "source": [
    "for i,d in enumerate(trtest):\n",
    "    x,y = next(iter(trtest))\n",
    "    l,d,z = m(x,return_latent=True)"
   ]
  },
  {
   "cell_type": "code",
   "execution_count": 99,
   "metadata": {},
   "outputs": [],
   "source": [
    "z = np.array(z.detach().numpy())"
   ]
  },
  {
   "cell_type": "code",
   "execution_count": 100,
   "metadata": {},
   "outputs": [],
   "source": [
    "y = np.array(y.detach().numpy())"
   ]
  },
  {
   "cell_type": "code",
   "execution_count": 101,
   "metadata": {},
   "outputs": [
    {
     "data": {
      "text/plain": [
       "(1440, 1344)"
      ]
     },
     "execution_count": 101,
     "metadata": {},
     "output_type": "execute_result"
    }
   ],
   "source": [
    "z.shape"
   ]
  },
  {
   "cell_type": "code",
   "execution_count": 102,
   "metadata": {},
   "outputs": [
    {
     "data": {
      "text/plain": [
       "Text(0.5, 1.0, 'tSNE projection of RPM-500 dataset')"
      ]
     },
     "execution_count": 102,
     "metadata": {},
     "output_type": "execute_result"
    },
    {
     "data": {
      "image/png": "[encoded data removed]",
      "text/plain": [
       "<Figure size 432x288 with 1 Axes>"
      ]
     },
     "metadata": {
      "needs_background": "light"
     },
     "output_type": "display_data"
    }
   ],
   "source": [
    "X = z\n",
    "Y = TSNE(perplexity=30.0).fit_transform(X)\n",
    "\n",
    "l=y\n",
    "plt.scatter(Y[l==0, 0], Y[l==0, 1], s=16, color='green')\n",
    "plt.scatter(Y[l==1, 0], Y[l==1, 1], s=8, color='purple')\n",
    "plt.scatter(Y[l==2, 0], Y[l==2, 1], s=6, color='red')\n",
    "plt.scatter(Y[l==3, 0], Y[l==3, 1], s=8, color='blue')\n",
    "plt.legend(['Baseline','Block','Leak','Bearing'])\n",
    "plt.title('tSNE projection of RPM-500 dataset')"
   ]
  },
  {
   "cell_type": "markdown",
   "metadata": {},
   "source": [
    "### DANN - 3 domains"
   ]
  },
  {
   "cell_type": "markdown",
   "metadata": {},
   "source": [
    "Experiment with 3 domains: 500, 600, 700"
   ]
  },
  {
   "cell_type": "code",
   "execution_count": 66,
   "metadata": {
    "scrolled": true
   },
   "outputs": [
    {
     "name": "stdout",
     "output_type": "stream",
     "text": [
      "Number of examples in source domain train and test dataloaders: train = 640, test = 160.\n",
      "Number of examples in target domain train and test dataloaders: train = 1280, test = 320.\n"
     ]
    }
   ],
   "source": [
    "tdda = TDDA_loader(PATH, split=0.8)\n",
    "srtrain, srtest, trtrain, trtest = tdda.getSplitDataLoader(sz_sourceDomain=800)"
   ]
  },
  {
   "cell_type": "code",
   "execution_count": 67,
   "metadata": {},
   "outputs": [
    {
     "name": "stdout",
     "output_type": "stream",
     "text": [
      "Final results:\n",
      "Label loss: 6.151199340820312e-05, domain loss (source): 0.6931471824645996, domain loss (target): 0.6931471824645996\n",
      "Train accuracy on source domain: 1.0\n",
      "Train accuracy on target domains (different rpm): 0.19765625\n",
      "Test accuracy on source domain: 1.0\n",
      "Test accuracy on target domains (different rpm): 0.178125\n",
      "Experiment number: 0\n",
      "Final results:\n",
      "Label loss: 0.0009641647338867188, domain loss (source): 0.693406879901886, domain loss (target): 0.6931604743003845\n",
      "Train accuracy on source domain: 0.99375\n",
      "Train accuracy on target domains (different rpm): 0.23125\n",
      "Test accuracy on source domain: 0.9875\n",
      "Test accuracy on target domains (different rpm): 0.23125\n",
      "Experiment number: 1\n"
     ]
    }
   ],
   "source": [
    "exp = 0\n",
    "for exp in range(2):\n",
    "    m1 = simple_CNN([1,3,6,12,24,48],[])\n",
    "    m2 = simple_CNN([1,3,6,12,24,48,96],[1152,4])\n",
    "    m3 = simple_CNN([1,3],[2001,2])\n",
    "\n",
    "    m = DANN(m1,m2,m3)\n",
    "    opt = torch.optim.Adam(m.parameters(), weight_decay= 0.000, lr=0.002)\n",
    "    m.domain_fit(optimizer = opt, epochs = 1, sourceTrain = srtrain, sourceTest = srtest, targetTrain = trtrain,\\\n",
    "             targetTest = trtest, every_iter=5000, dom_reg_l=[10000], max_iterations= 1601)\n",
    "    print('Experiment number: {}'.format(exp))"
   ]
  },
  {
   "cell_type": "markdown",
   "metadata": {},
   "source": [
    "### DANN - 4 domains"
   ]
  },
  {
   "cell_type": "markdown",
   "metadata": {},
   "source": [
    "Experiment with 4 domains: 500, 600, 700, 800. The latent feature space has to be expanded since we are trying to compress more information into it. Idea: map the decrease in performance as we move away from baseline domain to the difference between forcing frequency amplitidues?"
   ]
  },
  {
   "cell_type": "code",
   "execution_count": 63,
   "metadata": {},
   "outputs": [
    {
     "name": "stdout",
     "output_type": "stream",
     "text": [
      "Number of examples in source domain train and test dataloaders: train = 559, test = 241.\n",
      "Number of examples in target domain train and test dataloaders: train = 1679, test = 721.\n"
     ]
    }
   ],
   "source": [
    "tdda = TDDA_loader(PATH, split=0.7)\n",
    "srtrain, srtest, trtrain, trtest = tdda.getSplitDataLoader(sz_sourceDomain=800)"
   ]
  },
  {
   "cell_type": "code",
   "execution_count": 64,
   "metadata": {
    "scrolled": true
   },
   "outputs": [
    {
     "name": "stdout",
     "output_type": "stream",
     "text": [
      "Final results:\n",
      "Label loss: 2.9067673683166504, domain loss (source): 0.36297115683555603, domain loss (target): 0.582761824131012\n",
      "Train accuracy on source domain: 0.6493738819320215\n",
      "Train accuracy on target domains (different rpm): 0.29839189994044074\n",
      "Test accuracy on source domain: 0.6058091286307054\n",
      "Test accuracy on target domains (different rpm): 0.29819694868238555\n",
      "Experiment number: 0\n",
      "Final results:\n",
      "Label loss: 0.00025177001953125, domain loss (source): 0.6959279179573059, domain loss (target): 0.6939195394515991\n",
      "Train accuracy on source domain: 1.0\n",
      "Train accuracy on target domains (different rpm): 0.3150684931506849\n",
      "Test accuracy on source domain: 0.995850622406639\n",
      "Test accuracy on target domains (different rpm): 0.3231622746185853\n",
      "Experiment number: 1\n",
      "Final results:\n",
      "Label loss: 0.07817888259887695, domain loss (source): 0.7182165384292603, domain loss (target): 0.90850830078125\n",
      "Train accuracy on source domain: 0.9821109123434705\n",
      "Train accuracy on target domains (different rpm): 0.21322215604526504\n",
      "Test accuracy on source domain: 0.9875518672199171\n",
      "Test accuracy on target domains (different rpm): 0.23578363384188628\n",
      "Experiment number: 2\n",
      "Final results:\n",
      "Label loss: 0.0026848316192626953, domain loss (source): 0.6981182098388672, domain loss (target): 0.6889869570732117\n",
      "Train accuracy on source domain: 1.0\n",
      "Train accuracy on target domains (different rpm): 0.20667063728409768\n",
      "Test accuracy on source domain: 1.0\n",
      "Test accuracy on target domains (different rpm): 0.17198335644937587\n",
      "Experiment number: 3\n",
      "Final results:\n",
      "Label loss: 0.011255979537963867, domain loss (source): 1.445648431777954, domain loss (target): 2.714710235595703\n",
      "Train accuracy on source domain: 0.853309481216458\n",
      "Train accuracy on target domains (different rpm): 0.23108993448481238\n",
      "Test accuracy on source domain: 0.8423236514522822\n",
      "Test accuracy on target domains (different rpm): 0.2260748959778086\n",
      "Experiment number: 4\n"
     ]
    }
   ],
   "source": [
    "exp = 0\n",
    "for exp in range(5):\n",
    "    m1 = simple_CNN([1,3,6,12,24,48],[])\n",
    "    m2 = simple_CNN([1,3,6,12,24,48,96],[1152,4])\n",
    "    m3 = simple_CNN([1,3],[2001,2])\n",
    "\n",
    "    m = DANN(m1,m2,m3)\n",
    "    opt = torch.optim.Adam(m.parameters(), weight_decay= 0.000, lr=0.002)\n",
    "    m.domain_fit(optimizer = opt, epochs = 1, sourceTrain = srtrain, sourceTest = srtest, targetTrain = trtrain,\\\n",
    "             targetTest = trtest, every_iter=5000, dom_reg_l=[1], max_iterations= 2500)\n",
    "    print('Experiment number: {}'.format(exp))"
   ]
  },
  {
   "cell_type": "markdown",
   "metadata": {},
   "source": [
    "### DANN - 5 domains"
   ]
  },
  {
   "cell_type": "markdown",
   "metadata": {},
   "source": [
    "Experiment with 4 domains: 500, 600, 700, 800, 900."
   ]
  },
  {
   "cell_type": "code",
   "execution_count": 77,
   "metadata": {},
   "outputs": [
    {
     "name": "stdout",
     "output_type": "stream",
     "text": [
      "Number of examples in source domain train and test dataloaders: train = 559, test = 241.\n",
      "Number of examples in target domain train and test dataloaders: train = 2239, test = 961.\n"
     ]
    }
   ],
   "source": [
    "tdda = TDDA_loader(PATH, split=0.7)\n",
    "srtrain, srtest, trtrain, trtest = tdda.getSplitDataLoader(sz_sourceDomain=800)"
   ]
  },
  {
   "cell_type": "code",
   "execution_count": 78,
   "metadata": {},
   "outputs": [
    {
     "name": "stdout",
     "output_type": "stream",
     "text": [
      "Final results:\n",
      "Label loss: 0.00030231475830078125, domain loss (source): 0.6934877038002014, domain loss (target): 0.6930975914001465\n",
      "Train accuracy on source domain: 1.0\n",
      "Train accuracy on target domains (different rpm): 0.27288968289414917\n",
      "Test accuracy on source domain: 1.0\n",
      "Test accuracy on target domains (different rpm): 0.2559833506763788\n",
      "Experiment number: 0\n",
      "Final results:\n",
      "Label loss: 0.22077524662017822, domain loss (source): 0.4355592429637909, domain loss (target): 1.0348652601242065\n",
      "Train accuracy on source domain: 0.9767441860465116\n",
      "Train accuracy on target domains (different rpm): 0.15676641357748994\n",
      "Test accuracy on source domain: 0.9626556016597511\n",
      "Test accuracy on target domains (different rpm): 0.15400624349635797\n",
      "Experiment number: 1\n",
      "Final results:\n",
      "Label loss: 0.05768704414367676, domain loss (source): 0.4539308249950409, domain loss (target): 0.4861099123954773\n",
      "Train accuracy on source domain: 1.0\n",
      "Train accuracy on target domains (different rpm): 0.23805270209915141\n",
      "Test accuracy on source domain: 1.0\n",
      "Test accuracy on target domains (different rpm): 0.27991675338189387\n",
      "Experiment number: 2\n",
      "Final results:\n",
      "Label loss: 0.0005211830139160156, domain loss (source): 0.6927304863929749, domain loss (target): 0.34836289286613464\n",
      "Train accuracy on source domain: 1.0\n",
      "Train accuracy on target domains (different rpm): 0.19740955783832068\n",
      "Test accuracy on source domain: 1.0\n",
      "Test accuracy on target domains (different rpm): 0.2206035379812695\n",
      "Experiment number: 3\n",
      "Final results:\n",
      "Label loss: 9.679794311523438e-05, domain loss (source): 0.6931478381156921, domain loss (target): 0.6931464672088623\n",
      "Train accuracy on source domain: 1.0\n",
      "Train accuracy on target domains (different rpm): 0.2786958463599821\n",
      "Test accuracy on source domain: 1.0\n",
      "Test accuracy on target domains (different rpm): 0.28199791883454733\n",
      "Experiment number: 4\n"
     ]
    }
   ],
   "source": [
    "exp = 0\n",
    "for exp in range(5):\n",
    "    m1 = simple_CNN([1,3,6,12,24,48],[])\n",
    "    m2 = simple_CNN([1,3,6,12,24,48,96],[1152,4])\n",
    "    m3 = simple_CNN([1,3],[2001,2])\n",
    "\n",
    "    m = DANN(m1,m2,m3)\n",
    "    opt = torch.optim.Adam(m.parameters(), weight_decay= 0.000, lr=0.002)\n",
    "    m.domain_fit(optimizer = opt, epochs = 1, sourceTrain = srtrain, sourceTest = srtest, targetTrain = trtrain,\\\n",
    "             targetTest = trtest, every_iter=5000, dom_reg_l=[1], max_iterations= 2800)\n",
    "    print('Experiment number: {}'.format(exp))"
   ]
  },
  {
   "cell_type": "markdown",
   "metadata": {},
   "source": [
    "### DANN - 6 domains"
   ]
  },
  {
   "cell_type": "markdown",
   "metadata": {},
   "source": [
    "Experiment with 4 domains: 500, 600, 700, 800, 900, 1000."
   ]
  },
  {
   "cell_type": "code",
   "execution_count": 80,
   "metadata": {},
   "outputs": [
    {
     "name": "stdout",
     "output_type": "stream",
     "text": [
      "Number of examples in source domain train and test dataloaders: train = 559, test = 241.\n",
      "Number of examples in target domain train and test dataloaders: train = 2799, test = 1201.\n"
     ]
    }
   ],
   "source": [
    "tdda = TDDA_loader(PATH, split=0.7)\n",
    "srtrain, srtest, trtrain, trtest = tdda.getSplitDataLoader(sz_sourceDomain=800)"
   ]
  },
  {
   "cell_type": "code",
   "execution_count": 81,
   "metadata": {},
   "outputs": [
    {
     "name": "stdout",
     "output_type": "stream",
     "text": [
      "Final results:\n",
      "Label loss: 0.0006394386291503906, domain loss (source): 0.6952381134033203, domain loss (target): 0.6909305453300476\n",
      "Train accuracy on source domain: 1.0\n",
      "Train accuracy on target domains (different rpm): 0.18863879957127547\n",
      "Test accuracy on source domain: 1.0\n",
      "Test accuracy on target domains (different rpm): 0.18318068276436303\n",
      "Experiment number: 0\n",
      "Final results:\n",
      "Label loss: 0.0001773834228515625, domain loss (source): 0.6935054063796997, domain loss (target): 0.6927692294120789\n",
      "Train accuracy on source domain: 1.0\n",
      "Train accuracy on target domains (different rpm): 0.18756698821007503\n",
      "Test accuracy on source domain: 1.0\n",
      "Test accuracy on target domains (different rpm): 0.18151540383014156\n",
      "Experiment number: 1\n",
      "Final results:\n",
      "Label loss: 1.7642974853515625e-05, domain loss (source): 0.6925541758537292, domain loss (target): 0.6937405467033386\n",
      "Train accuracy on source domain: 0.9892665474060823\n",
      "Train accuracy on target domains (different rpm): 0.26688102893890675\n",
      "Test accuracy on source domain: 0.983402489626556\n",
      "Test accuracy on target domains (different rpm): 0.2664446294754371\n",
      "Experiment number: 2\n",
      "Final results:\n",
      "Label loss: 0.00016832351684570312, domain loss (source): 0.5949646234512329, domain loss (target): 0.6821876168251038\n",
      "Train accuracy on source domain: 0.998211091234347\n",
      "Train accuracy on target domains (different rpm): 0.1847088245802072\n",
      "Test accuracy on source domain: 1.0\n",
      "Test accuracy on target domains (different rpm): 0.21315570358034971\n",
      "Experiment number: 3\n",
      "Final results:\n",
      "Label loss: 0.003195047378540039, domain loss (source): 0.7004339694976807, domain loss (target): 0.681145966053009\n",
      "Train accuracy on source domain: 1.0\n",
      "Train accuracy on target domains (different rpm): 0.2815291175419793\n",
      "Test accuracy on source domain: 1.0\n",
      "Test accuracy on target domains (different rpm): 0.26061615320566195\n",
      "Experiment number: 4\n"
     ]
    }
   ],
   "source": [
    "exp = 0\n",
    "for exp in range(5):\n",
    "    m1 = simple_CNN([1,3,6,12,24,48],[])\n",
    "    m2 = simple_CNN([1,3,6,12,24,48,96],[1152,4])\n",
    "    m3 = simple_CNN([1,3],[2001,2])\n",
    "\n",
    "    m = DANN(m1,m2,m3)\n",
    "    opt = torch.optim.Adam(m.parameters(), weight_decay= 0.000, lr=0.002)\n",
    "    m.domain_fit(optimizer = opt, epochs = 1, sourceTrain = srtrain, sourceTest = srtest, targetTrain = trtrain,\\\n",
    "             targetTest = trtest, every_iter=5000, dom_reg_l=[1], max_iterations= 3400)\n",
    "    print('Experiment number: {}'.format(exp))"
   ]
  },
  {
   "cell_type": "markdown",
   "metadata": {},
   "source": [
    "## RDANN "
   ]
  },
  {
   "cell_type": "code",
   "execution_count": 5,
   "metadata": {},
   "outputs": [
    {
     "name": "stdout",
     "output_type": "stream",
     "text": [
      "500\n",
      "600\n"
     ]
    },
    {
     "ename": "IndexError",
     "evalue": "list index out of range",
     "output_type": "error",
     "traceback": [
      "\u001b[1;31m---------------------------------------------------------------------------\u001b[0m",
      "\u001b[1;31mIndexError\u001b[0m                                Traceback (most recent call last)",
      "\u001b[1;32m<ipython-input-5-02fd28940959>\u001b[0m in \u001b[0;36m<module>\u001b[1;34m\u001b[0m\n\u001b[1;32m----> 1\u001b[1;33m \u001b[0mtdda\u001b[0m \u001b[1;33m=\u001b[0m \u001b[0mTDDA_loader\u001b[0m\u001b[1;33m(\u001b[0m\u001b[0mPATH\u001b[0m\u001b[1;33m,\u001b[0m \u001b[0msplit\u001b[0m\u001b[1;33m=\u001b[0m\u001b[1;36m0.70\u001b[0m\u001b[1;33m,\u001b[0m \u001b[0mrpm_flag\u001b[0m \u001b[1;33m=\u001b[0m \u001b[1;32mTrue\u001b[0m\u001b[1;33m,\u001b[0m \u001b[0mrpm_labels\u001b[0m \u001b[1;33m=\u001b[0m \u001b[1;33m[\u001b[0m\u001b[1;36m500\u001b[0m\u001b[1;33m,\u001b[0m\u001b[1;36m600\u001b[0m\u001b[1;33m]\u001b[0m\u001b[1;33m)\u001b[0m\u001b[1;33m\u001b[0m\u001b[1;33m\u001b[0m\u001b[0m\n\u001b[0m\u001b[0;32m      2\u001b[0m \u001b[0msrtrain\u001b[0m\u001b[1;33m,\u001b[0m \u001b[0msrtest\u001b[0m\u001b[1;33m,\u001b[0m \u001b[0mtrtrain\u001b[0m\u001b[1;33m,\u001b[0m \u001b[0mtrtest\u001b[0m \u001b[1;33m=\u001b[0m \u001b[0mtdda\u001b[0m\u001b[1;33m.\u001b[0m\u001b[0mgetSplitDataLoader\u001b[0m\u001b[1;33m(\u001b[0m\u001b[0msz_sourceDomain\u001b[0m\u001b[1;33m=\u001b[0m\u001b[1;36m800\u001b[0m\u001b[1;33m)\u001b[0m\u001b[1;33m\u001b[0m\u001b[1;33m\u001b[0m\u001b[0m\n",
      "\u001b[1;32mL:\\AI\\silab\\TDDAdata.py\u001b[0m in \u001b[0;36m__init__\u001b[1;34m(self, PATH, split, npy_flag, drop_transient, rpm_flag, rpm_labels)\u001b[0m\n\u001b[0;32m     27\u001b[0m                 \u001b[0mself\u001b[0m\u001b[1;33m.\u001b[0m\u001b[0mdata\u001b[0m\u001b[1;33m.\u001b[0m\u001b[0mappend\u001b[0m\u001b[1;33m(\u001b[0m\u001b[0mnp\u001b[0m\u001b[1;33m.\u001b[0m\u001b[0mload\u001b[0m\u001b[1;33m(\u001b[0m\u001b[1;34mf'{PATH}'\u001b[0m\u001b[1;34mf'{file}'\u001b[0m\u001b[1;33m)\u001b[0m\u001b[1;33m)\u001b[0m\u001b[1;33m\u001b[0m\u001b[1;33m\u001b[0m\u001b[0m\n\u001b[0;32m     28\u001b[0m                 \u001b[1;32mif\u001b[0m \u001b[0mrpm_flag\u001b[0m\u001b[1;33m:\u001b[0m\u001b[1;33m\u001b[0m\u001b[1;33m\u001b[0m\u001b[0m\n\u001b[1;32m---> 29\u001b[1;33m                     \u001b[0mself\u001b[0m\u001b[1;33m.\u001b[0m\u001b[0mdata\u001b[0m\u001b[1;33m[\u001b[0m\u001b[0midx\u001b[0m\u001b[1;33m]\u001b[0m \u001b[1;33m=\u001b[0m \u001b[0mnp\u001b[0m\u001b[1;33m.\u001b[0m\u001b[0mhstack\u001b[0m\u001b[1;33m(\u001b[0m\u001b[1;33m(\u001b[0m\u001b[0mself\u001b[0m\u001b[1;33m.\u001b[0m\u001b[0mdata\u001b[0m\u001b[1;33m[\u001b[0m\u001b[0midx\u001b[0m\u001b[1;33m]\u001b[0m\u001b[1;33m,\u001b[0m\u001b[0mrpm_labels\u001b[0m\u001b[1;33m[\u001b[0m\u001b[0midx\u001b[0m\u001b[1;33m]\u001b[0m\u001b[1;33m*\u001b[0m\u001b[0mnp\u001b[0m\u001b[1;33m.\u001b[0m\u001b[0mones\u001b[0m\u001b[1;33m(\u001b[0m\u001b[1;33m(\u001b[0m\u001b[0mself\u001b[0m\u001b[1;33m.\u001b[0m\u001b[0mdata\u001b[0m\u001b[1;33m[\u001b[0m\u001b[0midx\u001b[0m\u001b[1;33m]\u001b[0m\u001b[1;33m[\u001b[0m\u001b[1;33m:\u001b[0m\u001b[1;33m,\u001b[0m\u001b[1;36m1\u001b[0m\u001b[1;33m]\u001b[0m\u001b[1;33m.\u001b[0m\u001b[0msize\u001b[0m\u001b[1;33m,\u001b[0m\u001b[1;36m1\u001b[0m\u001b[1;33m)\u001b[0m\u001b[1;33m)\u001b[0m\u001b[1;33m)\u001b[0m\u001b[1;33m)\u001b[0m\u001b[1;33m\u001b[0m\u001b[1;33m\u001b[0m\u001b[0m\n\u001b[0m\u001b[0;32m     30\u001b[0m                     \u001b[0mprint\u001b[0m\u001b[1;33m(\u001b[0m\u001b[0mrpm_labels\u001b[0m\u001b[1;33m[\u001b[0m\u001b[0midx\u001b[0m\u001b[1;33m]\u001b[0m\u001b[1;33m)\u001b[0m\u001b[1;33m\u001b[0m\u001b[1;33m\u001b[0m\u001b[0m\n\u001b[0;32m     31\u001b[0m                 \u001b[1;32melse\u001b[0m\u001b[1;33m:\u001b[0m \u001b[1;32mpass\u001b[0m\u001b[1;33m\u001b[0m\u001b[1;33m\u001b[0m\u001b[0m\n",
      "\u001b[1;31mIndexError\u001b[0m: list index out of range"
     ]
    }
   ],
   "source": [
    "tdda = TDDA_loader(PATH, split=0.70, rpm_flag = True, rpm_labels = [500,600])\n",
    "srtrain, srtest, trtrain, trtest = tdda.getSplitDataLoader(sz_sourceDomain=800)"
   ]
  },
  {
   "cell_type": "code",
   "execution_count": 13,
   "metadata": {},
   "outputs": [
    {
     "name": "stdout",
     "output_type": "stream",
     "text": [
      "Final results:\n",
      "Label loss: 0.0001926422119140625, domain loss (source): 1.9261479522469926e-08, domain loss (target): 0.9900001287460327\n",
      "Train accuracy on source domain: 0.998211091234347\n",
      "Train accuracy on target domains (different rpm): 0.2146690518783542\n",
      "Test accuracy on source domain: 0.991701244813278\n",
      "Test accuracy on target domains (different rpm): 0.16597510373443983\n",
      "Experiment number: 0\n",
      "Final results:\n",
      "Label loss: 0.004977226257324219, domain loss (source): 0.00021846657909918576, domain loss (target): 0.9900000691413879\n",
      "Train accuracy on source domain: 0.9874776386404294\n",
      "Train accuracy on target domains (different rpm): 0.3595706618962433\n",
      "Test accuracy on source domain: 0.970954356846473\n",
      "Test accuracy on target domains (different rpm): 0.34854771784232363\n",
      "Experiment number: 1\n",
      "Final results:\n",
      "Label loss: 0.011508941650390625, domain loss (source): 1.353555063587919e-07, domain loss (target): 0.9901300072669983\n",
      "Train accuracy on source domain: 0.998211091234347\n",
      "Train accuracy on target domains (different rpm): 0.15742397137745975\n",
      "Test accuracy on source domain: 0.991701244813278\n",
      "Test accuracy on target domains (different rpm): 0.1908713692946058\n",
      "Experiment number: 2\n",
      "Final results:\n",
      "Label loss: 0.006973743438720703, domain loss (source): 2.3929611415951513e-05, domain loss (target): 0.9900001287460327\n",
      "Train accuracy on source domain: 0.9910554561717353\n",
      "Train accuracy on target domains (different rpm): 0.31305903398926654\n",
      "Test accuracy on source domain: 0.991701244813278\n",
      "Test accuracy on target domains (different rpm): 0.27800829875518673\n",
      "Experiment number: 3\n",
      "Final results:\n",
      "Label loss: 0.001573801040649414, domain loss (source): 4.3006566556869075e-06, domain loss (target): 0.99000084400177\n",
      "Train accuracy on source domain: 1.0\n",
      "Train accuracy on target domains (different rpm): 0.24329159212880144\n",
      "Test accuracy on source domain: 0.991701244813278\n",
      "Test accuracy on target domains (different rpm): 0.16597510373443983\n",
      "Experiment number: 4\n"
     ]
    }
   ],
   "source": [
    "exp = 0\n",
    "for exp in range(5):\n",
    "    m1 = simple_CNN([1,3,6,12,24,48],[])\n",
    "    m2 = simple_CNN([1,3,6,12,24,48],[1584,4])\n",
    "    m3 = simple_CNN([1,3],[2001,1], smax_l=False)\n",
    "\n",
    "    m = RDANN(m1,m2,m3)\n",
    "    opt = torch.optim.Adam(m.parameters(), weight_decay= 0.000, lr=0.002)\n",
    "    m.domain_fit(optimizer = opt, epochs = 1, sourceTrain = srtrain, sourceTest = srtest, targetTrain = trtrain,\\\n",
    "             targetTest = trtest, every_iter=5000, dom_reg_l=[1], dom_range = 100, max_iterations = 1101)\n",
    "    print('Experiment number: {}'.format(exp))"
   ]
  },
  {
   "cell_type": "markdown",
   "metadata": {},
   "source": [
    "### RDANN - 3 domains"
   ]
  },
  {
   "cell_type": "code",
   "execution_count": 20,
   "metadata": {},
   "outputs": [
    {
     "name": "stdout",
     "output_type": "stream",
     "text": [
      "Number of examples in source domain train and test dataloaders: train = 640, test = 160.\n",
      "Number of examples in target domain train and test dataloaders: train = 1280, test = 320.\n"
     ]
    }
   ],
   "source": [
    "tdda = TDDA_loader(PATH, split=0.80, rpm_flag = True, rpm_labels = [500,600,700])\n",
    "srtrain, srtest, trtrain, trtest = tdda.getSplitDataLoader(sz_sourceDomain=800, batch_size=1)"
   ]
  },
  {
   "cell_type": "code",
   "execution_count": 21,
   "metadata": {},
   "outputs": [
    {
     "name": "stdout",
     "output_type": "stream",
     "text": [
      "Final results:\n",
      "Label loss: 0.002143383026123047, domain loss (source): 0.004999999888241291, domain loss (target): 0.9950000047683716\n",
      "Train accuracy on source domain: 0.7390625\n",
      "Train accuracy on target domains (different rpm): 0.25703125\n",
      "Test accuracy on source domain: 0.7875\n",
      "Test accuracy on target domains (different rpm): 0.240625\n",
      "Experiment number: 0\n"
     ]
    }
   ],
   "source": [
    "exp = 1\n",
    "for exp in range(1):\n",
    "    m1 = simple_CNN([1,12,48,96],[],ks=100)\n",
    "    m2 = simple_CNN([1,3,6,12,24,48],[8640,4])\n",
    "    m3 = simple_CNN([1,3],[9057,1], smax_l=False)\n",
    "\n",
    "    m = RDANN(m1,m2,m3)\n",
    "    opt = torch.optim.Adam(m.parameters(), weight_decay= 0.000, lr=0.002)\n",
    "    m.domain_fit(optimizer = opt, epochs = 1, sourceTrain = srtrain, sourceTest = srtest, targetTrain = trtrain,\\\n",
    "             targetTest = trtest, every_iter=5000, dom_reg_l=[10000], dom_range = 200, max_iterations = 1601)\n",
    "    print('Experiment number: {}'.format(exp))"
   ]
  },
  {
   "cell_type": "code",
   "execution_count": 8,
   "metadata": {},
   "outputs": [],
   "source": [
    "for i,d in enumerate(trtest):\n",
    "    x,y,td = next(iter(trtest))"
   ]
  },
  {
   "cell_type": "code",
   "execution_count": 60,
   "metadata": {},
   "outputs": [],
   "source": [
    "for i,d in enumerate(trtest):\n",
    "    x,y,td = next(iter(trtest))\n",
    "    l,d,z = m(x,return_latent=True)"
   ]
  },
  {
   "cell_type": "code",
   "execution_count": 61,
   "metadata": {},
   "outputs": [],
   "source": [
    "z = np.array(z.detach().numpy())"
   ]
  },
  {
   "cell_type": "code",
   "execution_count": 62,
   "metadata": {},
   "outputs": [],
   "source": [
    "td = np.array(td.detach().numpy())"
   ]
  },
  {
   "cell_type": "code",
   "execution_count": 63,
   "metadata": {},
   "outputs": [],
   "source": [
    "y = np.array(y.detach().numpy())"
   ]
  },
  {
   "cell_type": "code",
   "execution_count": 64,
   "metadata": {},
   "outputs": [
    {
     "data": {
      "text/plain": [
       "Text(0.5, 1.0, 'tSNE projection of RPM-500 dataset')"
      ]
     },
     "execution_count": 64,
     "metadata": {},
     "output_type": "execute_result"
    },
    {
     "data": {
      "image/png": "[encoded data removed]",
      "text/plain": [
       "<Figure size 432x288 with 1 Axes>"
      ]
     },
     "metadata": {
      "needs_background": "light"
     },
     "output_type": "display_data"
    }
   ],
   "source": [
    "z.shape\n",
    "\n",
    "X = z\n",
    "Y = TSNE(perplexity=30.0).fit_transform(X)\n",
    "l=y\n",
    "\n",
    "Y1 = Y[td==500]\n",
    "Y2 = Y[td==600]\n",
    "Y3 = Y[td==700]\n",
    "l2 = l[td==600]\n",
    "l3 = l[td==700]\n",
    "\n",
    "\n",
    "plt.scatter(Y2[l2==0, 0], Y2[l2==0, 1], s=16, marker=1, color='green')\n",
    "plt.scatter(Y2[l2==1, 0], Y2[l2==1, 1], s=8, marker=1, color='purple')\n",
    "plt.scatter(Y2[l2==2, 0], Y2[l2==2, 1], s=6, marker=1, color='red')\n",
    "plt.scatter(Y2[l2==3, 0], Y2[l2==3, 1], s=8, marker=1, color='blue')\n",
    "plt.scatter(Y3[l3==0, 0], Y3[l3==0, 1], s=16, color='green')\n",
    "plt.scatter(Y3[l3==1, 0], Y3[l3==1, 1], s=8, color='purple')\n",
    "plt.scatter(Y3[l3==2, 0], Y3[l3==2, 1], s=6, color='red')\n",
    "plt.scatter(Y3[l3==3, 0], Y3[l3==3, 1], s=8, color='blue')\n",
    "plt.legend(['Baseline','Block','Leak','Bearing'])\n",
    "plt.title('tSNE projection of RPM-500 dataset')"
   ]
  },
  {
   "cell_type": "markdown",
   "metadata": {},
   "source": [
    "### RDANN - 4 domains"
   ]
  },
  {
   "cell_type": "code",
   "execution_count": 20,
   "metadata": {},
   "outputs": [
    {
     "name": "stdout",
     "output_type": "stream",
     "text": [
      "Number of examples in source domain train and test dataloaders: train = 640, test = 160.\n",
      "Number of examples in target domain train and test dataloaders: train = 1920, test = 480.\n"
     ]
    }
   ],
   "source": [
    "tdda = TDDA_loader(PATH, split=0.80, rpm_flag = True, rpm_labels = [500,600,700,800])\n",
    "srtrain, srtest, trtrain, trtest = tdda.getSplitDataLoader(sz_sourceDomain=800)"
   ]
  },
  {
   "cell_type": "code",
   "execution_count": 21,
   "metadata": {},
   "outputs": [
    {
     "name": "stdout",
     "output_type": "stream",
     "text": [
      "Final results:\n",
      "Label loss: 3.5018844604492188, domain loss (source): 0.0033333187457174063, domain loss (target): 0.6633333563804626\n",
      "Train accuracy on source domain: 0.7609375\n",
      "Train accuracy on target domains (different rpm): 0.2682291666666667\n",
      "Test accuracy on source domain: 0.70625\n",
      "Test accuracy on target domains (different rpm): 0.25416666666666665\n",
      "Experiment number: 0\n"
     ]
    }
   ],
   "source": [
    "exp = 1\n",
    "for exp in range(1):\n",
    "    m1 = simple_CNN([1,12,24,48,48],[])\n",
    "    m2 = simple_CNN([1,12,24,48],[6288,4])\n",
    "    m3 = simple_CNN([1,3],[2013,1], smax_l=False)\n",
    "\n",
    "    m = RDANN(m1,m2,m3)\n",
    "    opt = torch.optim.Adam(m.parameters(), weight_decay= 0.000, lr=0.002)\n",
    "    m.domain_fit(optimizer = opt, epochs = 1, sourceTrain = srtrain, sourceTest = srtest, targetTrain = trtrain,\\\n",
    "             targetTest = trtest, every_iter=5000, dom_reg_l=[15000], dom_range = 300, max_iterations = 1601)\n",
    "    print('Experiment number: {}'.format(exp))"
   ]
  },
  {
   "cell_type": "markdown",
   "metadata": {},
   "source": [
    "### RDANN - 5 domains"
   ]
  },
  {
   "cell_type": "code",
   "execution_count": 74,
   "metadata": {},
   "outputs": [
    {
     "name": "stdout",
     "output_type": "stream",
     "text": [
      "500\n",
      "600\n",
      "700\n",
      "800\n",
      "900\n",
      "Number of examples in source domain train and test dataloaders: train = 640, test = 160.\n",
      "Number of examples in target domain train and test dataloaders: train = 2560, test = 640.\n"
     ]
    }
   ],
   "source": [
    "tdda = TDDA_loader(PATH, split=0.80, rpm_flag = True, rpm_labels = [500,600,700,800,900])\n",
    "srtrain, srtest, trtrain, trtest = tdda.getSplitDataLoader(sz_sourceDomain=800)"
   ]
  },
  {
   "cell_type": "code",
   "execution_count": 75,
   "metadata": {},
   "outputs": [
    {
     "name": "stdout",
     "output_type": "stream",
     "text": [
      "Final results:\n",
      "Label loss: 0.0019927024841308594, domain loss (source): 0.002499945694580674, domain loss (target): 0.9975000619888306\n",
      "Train accuracy on source domain: 0.9984375\n",
      "Train accuracy on target domains (different rpm): 0.247265625\n",
      "Test accuracy on source domain: 1.0\n",
      "Test accuracy on target domains (different rpm): 0.2375\n",
      "Experiment number: 0\n",
      "Final results:\n",
      "Label loss: 0.0006375312805175781, domain loss (source): 0.0024999550078064203, domain loss (target): 0.24750001728534698\n",
      "Train accuracy on source domain: 0.996875\n",
      "Train accuracy on target domains (different rpm): 0.258984375\n",
      "Test accuracy on source domain: 0.9875\n",
      "Test accuracy on target domains (different rpm): 0.2734375\n",
      "Experiment number: 1\n"
     ]
    }
   ],
   "source": [
    "exp = 1\n",
    "for exp in range(2):\n",
    "    m1 = simple_CNN([1,3,6,12,24,48],[])\n",
    "    m2 = simple_CNN([1,3,6,12,24,48,96],[1152,4])\n",
    "    m3 = simple_CNN([1,3],[2001,1], smax_l=False)\n",
    "\n",
    "    m = RDANN(m1,m2,m3)\n",
    "    opt = torch.optim.Adam(m.parameters(), weight_decay= 0.000, lr=0.002)\n",
    "    m.domain_fit(optimizer = opt, epochs = 1, sourceTrain = srtrain, sourceTest = srtest, targetTrain = trtrain,\\\n",
    "             targetTest = trtest, every_iter=5000, dom_reg_l=[10000], dom_range = 400, max_iterations = 1601)\n",
    "    print('Experiment number: {}'.format(exp))"
   ]
  },
  {
   "cell_type": "markdown",
   "metadata": {},
   "source": [
    "### RDANN - 6 domains"
   ]
  },
  {
   "cell_type": "code",
   "execution_count": 68,
   "metadata": {},
   "outputs": [
    {
     "name": "stdout",
     "output_type": "stream",
     "text": [
      "500\n",
      "600\n",
      "700\n",
      "800\n",
      "900\n",
      "1000\n",
      "Number of examples in source domain train and test dataloaders: train = 640, test = 160.\n",
      "Number of examples in target domain train and test dataloaders: train = 3200, test = 800.\n"
     ]
    }
   ],
   "source": [
    "tdda = TDDA_loader(PATH, split=0.80, rpm_flag = True, rpm_labels = [500,600,700,800,900,1000])\n",
    "srtrain, srtest, trtrain, trtest = tdda.getSplitDataLoader(sz_sourceDomain=800)"
   ]
  },
  {
   "cell_type": "code",
   "execution_count": 69,
   "metadata": {},
   "outputs": [
    {
     "name": "stdout",
     "output_type": "stream",
     "text": [
      "Final results:\n",
      "Label loss: 0.0004115104675292969, domain loss (source): 3.225928857375493e-09, domain loss (target): 1.0\n",
      "Train accuracy on source domain: 0.996875\n",
      "Train accuracy on target domains (different rpm): 0.3265625\n",
      "Test accuracy on source domain: 1.0\n",
      "Test accuracy on target domains (different rpm): 0.35875\n",
      "Experiment number: 0\n",
      "Final results:\n",
      "Label loss: 0.0065288543701171875, domain loss (source): 0.004999999888241291, domain loss (target): 1.4950000047683716\n",
      "Train accuracy on source domain: 0.9671875\n",
      "Train accuracy on target domains (different rpm): 0.335625\n",
      "Test accuracy on source domain: 0.98125\n",
      "Test accuracy on target domains (different rpm): 0.355\n",
      "Experiment number: 1\n"
     ]
    }
   ],
   "source": [
    "exp = 1\n",
    "for exp in range(2):\n",
    "    m1 = simple_CNN([1,3,6,12,24,48],[])\n",
    "    m2 = simple_CNN([1,3,6,12,24,48,96],[1152,4])\n",
    "    m3 = simple_CNN([1,3],[2001,1], smax_l=False)\n",
    "\n",
    "    m = RDANN(m1,m2,m3)\n",
    "    opt = torch.optim.Adam(m.parameters(), weight_decay= 0.000, lr=0.002)\n",
    "    m.domain_fit(optimizer = opt, epochs = 1, sourceTrain = srtrain, sourceTest = srtest, targetTrain = trtrain,\\\n",
    "             targetTest = trtest, every_iter=5000, dom_reg_l=[10000], dom_range = 500, max_iterations = 1601)\n",
    "    print('Experiment number: {}'.format(exp))"
   ]
  }
 ],
 "metadata": {
  "kernelspec": {
   "display_name": "Python 3",
   "language": "python",
   "name": "python3"
  },
  "language_info": {
   "codemirror_mode": {
    "name": "ipython",
    "version": 3
   },
   "file_extension": ".py",
   "mimetype": "text/x-python",
   "name": "python",
   "nbconvert_exporter": "python",
   "pygments_lexer": "ipython3",
   "version": "3.7.2"
  }
 },
 "nbformat": 4,
 "nbformat_minor": 2
}
