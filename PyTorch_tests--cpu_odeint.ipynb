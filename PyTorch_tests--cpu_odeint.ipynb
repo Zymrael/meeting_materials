{
 "cells": [
  {
   "cell_type": "markdown",
   "metadata": {},
   "source": [
    "## NOW WITH GPU PROFILING!"
   ]
  },
  {
   "cell_type": "markdown",
   "metadata": {},
   "source": [
    "## HDNN Demo"
   ]
  },
  {
   "cell_type": "code",
   "execution_count": 1,
   "metadata": {},
   "outputs": [],
   "source": [
    "# package for gpu profiling\n",
    "import ipyexperiments"
   ]
  },
  {
   "cell_type": "code",
   "execution_count": 2,
   "metadata": {},
   "outputs": [],
   "source": [
    "import gc"
   ]
  },
  {
   "cell_type": "code",
   "execution_count": 3,
   "metadata": {},
   "outputs": [],
   "source": [
    "import numpy as np\n",
    "import sklearn.datasets as datasets\n",
    "import matplotlib.pyplot as plt\n",
    "import torch\n",
    "import torch.nn as nn\n",
    "import torch.nn.functional as F\n",
    "from sklearn.model_selection import train_test_split\n",
    "import torch.utils.data as data_utils\n",
    "from torchdiffeq import odeint, odeint_adjoint\n",
    "\n",
    "# nome che fa figo\n",
    "from torchcontrol.arch_cpu_odeint import HDNN\n",
    "from torchcontrol.predictors import MLP, CNN\n",
    "from torchcontrol.utils import genpoints, dump_tensors"
   ]
  },
  {
   "cell_type": "code",
   "execution_count": 4,
   "metadata": {},
   "outputs": [],
   "source": [
    "device = torch.device(\"cuda:0\" if torch.cuda.is_available() else \"cpu\")"
   ]
  },
  {
   "cell_type": "code",
   "execution_count": 5,
   "metadata": {},
   "outputs": [],
   "source": [
    "for obj in gc.get_objects():\n",
    "    try:\n",
    "        if torch.is_tensor(obj) or (hasattr(obj, 'data') and torch.is_tensor(obj.data)):\n",
    "            print(type(obj), obj.size())\n",
    "    except: pass"
   ]
  },
  {
   "cell_type": "code",
   "execution_count": 6,
   "metadata": {},
   "outputs": [
    {
     "name": "stdout",
     "output_type": "stream",
     "text": [
      "Total size: 0\n"
     ]
    }
   ],
   "source": [
    "dump_tensors()"
   ]
  },
  {
   "cell_type": "markdown",
   "metadata": {},
   "source": [
    "### Data generation"
   ]
  },
  {
   "cell_type": "code",
   "execution_count": 7,
   "metadata": {},
   "outputs": [
    {
     "data": {
      "text/plain": [
       "<matplotlib.collections.PathCollection at 0x21459e27128>"
      ]
     },
     "execution_count": 7,
     "metadata": {},
     "output_type": "execute_result"
    },
    {
     "data": {
      "image/png": "[encoded data removed]",
      "text/plain": [
       "<Figure size 432x288 with 1 Axes>"
      ]
     },
     "metadata": {
      "needs_background": "light"
     },
     "output_type": "display_data"
    }
   ],
   "source": [
    "X, yn = datasets.make_classification(n_samples=200,n_informative=4,n_clusters_per_class=3,n_classes=3)\n",
    "plt.scatter(X[yn==1,0],X[yn==1,1],color='blue')\n",
    "plt.scatter(X[yn==0,0],X[yn==0,1],color='red')\n",
    "plt.scatter(X[yn==2,0],X[yn==2,1],color='green')"
   ]
  },
  {
   "cell_type": "code",
   "execution_count": 46,
   "metadata": {},
   "outputs": [
    {
     "data": {
      "text/plain": [
       "<matplotlib.collections.PathCollection at 0x2831ce5f438>"
      ]
     },
     "execution_count": 46,
     "metadata": {},
     "output_type": "execute_result"
    },
    {
     "data": {
      "image/png": "[encoded data removed]",
      "text/plain": [
       "<Figure size 432x288 with 1 Axes>"
      ]
     },
     "metadata": {
      "needs_background": "light"
     },
     "output_type": "display_data"
    },
    {
     "name": "stdout",
     "output_type": "stream",
     "text": [
      "･ RAM: △Consumed △Peaked  Used Total | Exec time 0:00:00.196\n",
      "･ CPU:         0       0     1442 MB |\n",
      "･ GPU:        41       0      751 MB |\n"
     ]
    }
   ],
   "source": [
    "X, yn = datasets.make_moons(n_samples=200)\n",
    "plt.scatter(X[yn==1,0],X[yn==1,1],color='blue')\n",
    "plt.scatter(X[yn==0,0],X[yn==0,1],color='red')"
   ]
  },
  {
   "cell_type": "code",
   "execution_count": 83,
   "metadata": {},
   "outputs": [
    {
     "data": {
      "text/plain": [
       "<matplotlib.collections.PathCollection at 0x28330a01eb8>"
      ]
     },
     "execution_count": 83,
     "metadata": {},
     "output_type": "execute_result"
    },
    {
     "data": {
      "image/png": "[encoded data removed]",
      "text/plain": [
       "<Figure size 432x288 with 1 Axes>"
      ]
     },
     "metadata": {
      "needs_background": "light"
     },
     "output_type": "display_data"
    },
    {
     "name": "stdout",
     "output_type": "stream",
     "text": [
      "･ RAM: △Consumed △Peaked  Used Total | Exec time 0:00:00.236\n",
      "･ CPU:         0       0     2038 MB |\n",
      "･ GPU:        -1       0     1623 MB |\n"
     ]
    }
   ],
   "source": [
    "X,yn = datasets.make_blobs(n_samples=100, centers = 2,n_features=2)\n",
    "plt.scatter(X[yn==1,0],X[yn==1,1],color='blue')\n",
    "plt.scatter(X[yn==0,0],X[yn==0,1],color='red')"
   ]
  },
  {
   "cell_type": "code",
   "execution_count": 84,
   "metadata": {},
   "outputs": [
    {
     "name": "stdout",
     "output_type": "stream",
     "text": [
      "･ RAM: △Consumed △Peaked  Used Total | Exec time 0:00:00.002\n",
      "･ CPU:         0       0     2038 MB |\n",
      "･ GPU:       -10       0     1613 MB |\n"
     ]
    }
   ],
   "source": [
    "X_train, X_test, y_train, y_test = train_test_split(X, yn, test_size=0.1, random_state=42)"
   ]
  },
  {
   "cell_type": "code",
   "execution_count": 85,
   "metadata": {},
   "outputs": [
    {
     "name": "stdout",
     "output_type": "stream",
     "text": [
      "･ RAM: △Consumed △Peaked  Used Total | Exec time 0:00:00.032\n",
      "･ CPU:         0       0     2038 MB |\n",
      "･ GPU:         8       0     1621 MB |\n"
     ]
    }
   ],
   "source": [
    "# choose batch size here\n",
    "bs = 90\n",
    "\n",
    "X_train = torch.Tensor(X_train).to(device)\n",
    "y_train = torch.LongTensor(y_train).to(device)\n",
    "X_test = torch.Tensor(X_test).to(device)\n",
    "y_test = torch.LongTensor(y_test).to(device)\n",
    "\n",
    "train = data_utils.TensorDataset(X_train,y_train)\n",
    "trainloader = data_utils.DataLoader(train, batch_size=bs, shuffle=True)\n",
    "\n",
    "test = data_utils.TensorDataset(X_test,y_test)\n",
    "testloader = data_utils.DataLoader(test, batch_size=bs, shuffle=True)"
   ]
  },
  {
   "cell_type": "markdown",
   "metadata": {},
   "source": [
    "## Learning a boundary in R2"
   ]
  },
  {
   "cell_type": "markdown",
   "metadata": {},
   "source": [
    "-  HDNN wrapper is initialized with a predictor (also nn.Module) as input that is used during inference and the parameters of which are updated according to hamiltonian dynamics. The default fully connected network class is given as a baseline. \n",
    "-  NOTE: Bigger nets might require high amounts of CUDA memory and might thus crash. Further optimization is required"
   ]
  },
  {
   "cell_type": "code",
   "execution_count": 86,
   "metadata": {},
   "outputs": [
    {
     "name": "stdout",
     "output_type": "stream",
     "text": [
      "\n",
      "*** Experiment started with the Pytorch backend\n",
      "Device: ID 0, GeForce GTX 1060 3GB (3072 RAM)\n",
      "\n",
      "\n",
      "*** Current state:\n",
      "RAM:  Used  Free  Total      Util\n",
      "CPU:  2038  2836   8143 MB  25.03% \n",
      "GPU:  1619  1452   3072 MB  52.71% \n",
      "\n",
      "\n",
      "･ RAM: △Consumed △Peaked  Used Total | Exec time 0:00:00.204\n",
      "･ CPU:         0       0     2038 MB |\n",
      "･ GPU:        -2       0     1619 MB |\n",
      "\n",
      "IPyExperimentsPytorch: Finishing\n",
      "\n",
      "*** Experiment finished in 00:01:57 (elapsed wallclock time)\n",
      "\n",
      "*** Experiment memory:\n",
      "RAM:  Consumed     Reclaimed\n",
      "CPU:     595       0 MB (  0.00%)\n",
      "GPU:     887       0 MB (  0.00%)\n",
      "\n",
      "*** Current state:\n",
      "RAM:  Used  Free  Total      Util\n",
      "CPU:  2038  2837   8143 MB  25.03% \n",
      "GPU:  1629  1442   3072 MB  53.04% \n",
      "\n",
      "\n",
      "･ RAM: △Consumed △Peaked  Used Total | Exec time 0:00:00.216\n",
      "･ CPU:         0       0     2038 MB |\n",
      "･ GPU:        10       0     1629 MB |\n"
     ]
    }
   ],
   "source": [
    "exp1 = ipyexperiments.IPyExperimentsPytorch()"
   ]
  },
  {
   "cell_type": "code",
   "execution_count": 87,
   "metadata": {},
   "outputs": [
    {
     "name": "stdout",
     "output_type": "stream",
     "text": [
      "･ RAM: △Consumed △Peaked  Used Total | Exec time 0:00:00.264\n",
      "･ CPU:         7       0     2026 MB |\n",
      "･ GPU:        -2       2     1627 MB |\n"
     ]
    }
   ],
   "source": [
    "# example: [2,12,2] are the dense layers of the MLP predictor used, \\\n",
    "# whereas [1,2,0] are the a,b,c of the loss function. 2 is beta \n",
    "m = HDNN([2,10000,2],'MLP',[1,2,0.1],1).cuda()"
   ]
  },
  {
   "cell_type": "code",
   "execution_count": 55,
   "metadata": {},
   "outputs": [
    {
     "name": "stdout",
     "output_type": "stream",
     "text": [
      "･ RAM: △Consumed △Peaked  Used Total | Exec time 0:00:00.011\n",
      "･ CPU:         0       0     1367 MB |\n",
      "･ GPU:       -31       0      730 MB |\n"
     ]
    }
   ],
   "source": [
    "# alternatively, using a CNN is also a possiblity\n",
    "m = HDNN([1,12,12],'CNN',[1,2,0.2],1,[192,3]).cuda()"
   ]
  },
  {
   "cell_type": "code",
   "execution_count": 88,
   "metadata": {},
   "outputs": [
    {
     "name": "stdout",
     "output_type": "stream",
     "text": [
      "Initial accuracy on training dataset: 0.0 %\n",
      "･ RAM: △Consumed △Peaked  Used Total | Exec time 0:00:00.017\n",
      "･ CPU:         0       0     2026 MB |\n",
      "･ GPU:       -11       2     1615 MB |\n"
     ]
    }
   ],
   "source": [
    "print('Initial accuracy on training dataset: {} %'.format(m.pred_accuracy(trainloader)))"
   ]
  },
  {
   "cell_type": "code",
   "execution_count": 89,
   "metadata": {},
   "outputs": [
    {
     "name": "stdout",
     "output_type": "stream",
     "text": [
      "  message: 'The solver successfully reached the end of the integration interval.'\n",
      "     nfev: 14\n",
      "     njev: 0\n",
      "      nlu: 0\n",
      "      sol: None\n",
      "   status: 0\n",
      "  success: True\n",
      "        t: array([0.        , 0.00299207, 0.00668896])\n",
      " t_events: None\n",
      "        y: array([[ 0.10915041,  0.11412241,  0.12018293],\n",
      "       [-0.6489538 , -0.64013607, -0.62938724],\n",
      "       [ 0.31155819,  0.31693392,  0.3234868 ],\n",
      "       ...,\n",
      "       [ 0.1271711 ,  0.12510048,  0.12284286],\n",
      "       [ 0.78718299,  0.77807394,  0.76648751],\n",
      "       [ 0.70047706,  0.69239516,  0.68302107]])\n",
      "･ RAM: △Consumed △Peaked  Used Total | Exec time 0:00:09.556\n",
      "･ CPU:        17      12     2042 MB |\n",
      "･ GPU:        -6      39     1609 MB |\n"
     ]
    }
   ],
   "source": [
    "m.fit(trainloader,1,time_delta=500,method='odeint',iter_accuracy=10,ode_t=2,ode_step=300)"
   ]
  },
  {
   "cell_type": "code",
   "execution_count": 90,
   "metadata": {},
   "outputs": [
    {
     "name": "stdout",
     "output_type": "stream",
     "text": [
      "Post-training accuracy on test dataset: 1.0 \n",
      "･ RAM: △Consumed △Peaked  Used Total | Exec time 0:00:00.004\n",
      "･ CPU:         0       0     2042 MB |\n",
      "･ GPU:         1       2     1611 MB |\n"
     ]
    }
   ],
   "source": [
    "print('Post-training accuracy on test dataset: {} '.format(m.pred_accuracy(testloader)))"
   ]
  },
  {
   "cell_type": "code",
   "execution_count": 62,
   "metadata": {},
   "outputs": [
    {
     "data": {
      "image/png": "[encoded data removed]",
      "text/plain": [
       "<Figure size 432x288 with 1 Axes>"
      ]
     },
     "metadata": {
      "needs_background": "light"
     },
     "output_type": "display_data"
    },
    {
     "name": "stdout",
     "output_type": "stream",
     "text": [
      "･ RAM: △Consumed △Peaked  Used Total | Exec time 0:00:00.200\n",
      "･ CPU:         0       0     2004 MB |\n",
      "･ GPU:         5       0      870 MB |\n"
     ]
    }
   ],
   "source": [
    "m.plotLoss()"
   ]
  },
  {
   "cell_type": "code",
   "execution_count": null,
   "metadata": {},
   "outputs": [],
   "source": [
    "m.plotParameters()"
   ]
  },
  {
   "cell_type": "code",
   "execution_count": null,
   "metadata": {},
   "outputs": [],
   "source": [
    "m.plotVelocities()"
   ]
  },
  {
   "cell_type": "markdown",
   "metadata": {},
   "source": [
    "## Create boundary plot"
   ]
  },
  {
   "cell_type": "code",
   "execution_count": 94,
   "metadata": {},
   "outputs": [
    {
     "name": "stdout",
     "output_type": "stream",
     "text": [
      "･ RAM: △Consumed △Peaked  Used Total | Exec time 0:00:00.088\n",
      "･ CPU:         0       2     2043 MB |\n",
      "･ GPU:       -22       0     1608 MB |\n"
     ]
    }
   ],
   "source": [
    "mp = genpoints(-15,15,-15,15,100)"
   ]
  },
  {
   "cell_type": "code",
   "execution_count": 95,
   "metadata": {},
   "outputs": [
    {
     "name": "stdout",
     "output_type": "stream",
     "text": [
      "･ RAM: △Consumed △Peaked  Used Total | Exec time 0:00:00.038\n",
      "･ CPU:         0       0     2043 MB |\n",
      "･ GPU:        14     763     1623 MB |\n"
     ]
    }
   ],
   "source": [
    "y,idx = torch.max(torch.exp(m.predictor.forward(mp)),1)"
   ]
  },
  {
   "cell_type": "code",
   "execution_count": 96,
   "metadata": {
    "scrolled": true
   },
   "outputs": [
    {
     "data": {
      "text/plain": [
       "<matplotlib.collections.PathCollection at 0x28330945e10>"
      ]
     },
     "execution_count": 96,
     "metadata": {},
     "output_type": "execute_result"
    },
    {
     "data": {
      "image/png": "[encoded data removed]",
      "text/plain": [
       "<Figure size 324x288 with 1 Axes>"
      ]
     },
     "metadata": {
      "needs_background": "light"
     },
     "output_type": "display_data"
    },
    {
     "name": "stdout",
     "output_type": "stream",
     "text": [
      "･ RAM: △Consumed △Peaked  Used Total | Exec time 0:00:00.391\n",
      "･ CPU:         0       0     2044 MB |\n",
      "･ GPU:        10       4     1634 MB |\n"
     ]
    }
   ],
   "source": [
    "mp_r = mp[idx==0]\n",
    "mp_b = mp[idx==1]\n",
    "plt.figure(figsize=(4.5,4))\n",
    "plt.scatter(mp_r[:,0].cpu(),mp_r[:,1].cpu(),color='orange')\n",
    "plt.scatter(mp_b[:,0].cpu(),mp_b[:,1].cpu(),color='cyan')\n",
    "plt.scatter(X[yn==1,0],X[yn==1,1],color='blue')\n",
    "plt.scatter(X[yn==0,0],X[yn==0,1],color='red')"
   ]
  },
  {
   "cell_type": "code",
   "execution_count": 32,
   "metadata": {},
   "outputs": [
    {
     "name": "stdout",
     "output_type": "stream",
     "text": [
      "･ RAM: △Consumed △Peaked  Used Total | Exec time 0:00:00.000\n",
      "･ CPU:         0       0     1246 MB |\n",
      "･ GPU:         1       0     1015 MB |\n",
      "\n",
      "IPyExperimentsPytorch: Finishing\n",
      "\n",
      "*** Experiment finished in 00:10:00 (elapsed wallclock time)\n",
      "\n",
      "*** Newly defined local variables:\n",
      "Deleted: idx, m, mp, mp_b, mp_r, y\n",
      "\n",
      "*** Circular ref objects gc collected during the experiment:\n",
      "cleared 7 objects (only temporary leakage)\n",
      "\n",
      "*** Experiment memory:\n",
      "RAM:  Consumed     Reclaimed\n",
      "CPU:      70     998 MB (1408.09%)\n",
      "GPU:     155      99 MB ( 63.88%)\n",
      "\n",
      "*** Current state:\n",
      "RAM:  Used  Free  Total      Util\n",
      "CPU:   248  3535   8143 MB   3.05% \n",
      "GPU:   916  2155   3072 MB  29.83% \n",
      "\n",
      "\n"
     ]
    }
   ],
   "source": [
    "del exp1"
   ]
  },
  {
   "cell_type": "code",
   "execution_count": null,
   "metadata": {},
   "outputs": [],
   "source": []
  },
  {
   "cell_type": "code",
   "execution_count": null,
   "metadata": {},
   "outputs": [],
   "source": []
  },
  {
   "cell_type": "code",
   "execution_count": null,
   "metadata": {},
   "outputs": [],
   "source": []
  },
  {
   "cell_type": "code",
   "execution_count": null,
   "metadata": {},
   "outputs": [],
   "source": []
  },
  {
   "cell_type": "code",
   "execution_count": null,
   "metadata": {},
   "outputs": [],
   "source": []
  },
  {
   "cell_type": "code",
   "execution_count": null,
   "metadata": {},
   "outputs": [],
   "source": []
  },
  {
   "cell_type": "code",
   "execution_count": null,
   "metadata": {},
   "outputs": [],
   "source": []
  },
  {
   "cell_type": "markdown",
   "metadata": {},
   "source": [
    "## Experimental and useless stuff"
   ]
  },
  {
   "cell_type": "code",
   "execution_count": 99,
   "metadata": {},
   "outputs": [],
   "source": [
    "theta_dot = torch.autograd.Variable()\n",
    "theta_ddot = torch.autograd.Variable()\n",
    "m = DumbNet(2,12,3)\n",
    "d = iter(m.parameters())\n",
    "for i in range(3):\n",
    "    layer_shape = (next(d).shape)\n",
    "    torch.cat((theta_dot,torch.autograd.Variable(torch.Tensor(torch.zeros(layer_shape)))))\n",
    "    torch.cat((theta_ddot,torch.autograd.Variable(torch.Tensor(torch.zeros(layer_shape)))))"
   ]
  },
  {
   "cell_type": "code",
   "execution_count": 114,
   "metadata": {},
   "outputs": [],
   "source": [
    "theta_dot = torch.autograd.Variable(torch.Tensor())\n",
    "theta_ddot = torch.autograd.Variable(torch.Tensor())"
   ]
  },
  {
   "cell_type": "code",
   "execution_count": null,
   "metadata": {},
   "outputs": [],
   "source": [
    "class HCycle(torch.autograd.Function):\n",
    "    @staticmethod\n",
    "    def forward(ctx,model,x,parameters):\n",
    "        x = model.layer1(x)\n",
    "        x = F.relu(x)\n",
    "        x = model.layer2(x)\n",
    "        return F.log_softmax(x)\n",
    "    @staticmethod\n",
    "    def backward(ctx,loss,model,parameters):\n",
    "        \n",
    "        weights_state = torch.matmul(A,grad_H)\n",
    "        parameters = torchdiffeq.odeint(weights_state)"
   ]
  },
  {
   "cell_type": "code",
   "execution_count": null,
   "metadata": {},
   "outputs": [],
   "source": [
    "class Update(torch.autograd.Function):\n",
    "    @staticmethod\n",
    "    def forward(ctx, x):\n",
    "        return x.view_as(x)\n",
    "\n",
    "    @staticmethod\n",
    "    def backward(ctx, grad_output):\n",
    "        return grad_output.neg()\n",
    "\n",
    "def grad_reverse(x):\n",
    "    return GradReverse.apply(x)"
   ]
  },
  {
   "cell_type": "code",
   "execution_count": 107,
   "metadata": {
    "scrolled": true
   },
   "outputs": [
    {
     "ename": "AttributeError",
     "evalue": "module 'torchdiffeq' has no attribute 'odeint'",
     "output_type": "error",
     "traceback": [
      "\u001b[1;31m---------------------------------------------------------------------------\u001b[0m",
      "\u001b[1;31mAttributeError\u001b[0m                            Traceback (most recent call last)",
      "\u001b[1;32m<ipython-input-107-0f95f5f6d7a8>\u001b[0m in \u001b[0;36m<module>\u001b[1;34m\u001b[0m\n\u001b[1;32m----> 1\u001b[1;33m \u001b[0mtorchdiffeq\u001b[0m\u001b[1;33m.\u001b[0m\u001b[0modeint\u001b[0m\u001b[1;33m\u001b[0m\u001b[1;33m\u001b[0m\u001b[0m\n\u001b[0m",
      "\u001b[1;31mAttributeError\u001b[0m: module 'torchdiffeq' has no attribute 'odeint'"
     ]
    }
   ],
   "source": [
    "torchdiffeq.odeint()"
   ]
  },
  {
   "cell_type": "markdown",
   "metadata": {},
   "source": [
    "## Utils"
   ]
  },
  {
   "cell_type": "code",
   "execution_count": 75,
   "metadata": {},
   "outputs": [],
   "source": [
    "def make_meshgrid(x, y, h=.02):\n",
    "    \"\"\"Create a mesh of points to plot in\n",
    "\n",
    "    Parameters\n",
    "    ----------\n",
    "    x: data to base x-axis meshgrid on\n",
    "    y: data to base y-axis meshgrid on\n",
    "    h: stepsize for meshgrid, optional\n",
    "\n",
    "    Returns\n",
    "    -------\n",
    "    xx, yy : ndarray\n",
    "    \"\"\"\n",
    "    x_min, x_max = x.min() - 1, x.max() + 1\n",
    "    y_min, y_max = y.min() - 1, y.max() + 1\n",
    "    xx, yy = np.meshgrid(np.arange(x_min, x_max, h),\n",
    "                         np.arange(y_min, y_max, h))\n",
    "    return xx, yy\n",
    "\n",
    "\n",
    "def plot_contours(ax, clf, xx, yy, **params):\n",
    "    \"\"\"Plot the decision boundaries for a classifier.\n",
    "\n",
    "    Parameters\n",
    "    ----------\n",
    "    ax: matplotlib axes object\n",
    "    clf: a classifier\n",
    "    xx: meshgrid ndarray\n",
    "    yy: meshgrid ndarray\n",
    "    params: dictionary of params to pass to contourf, optional\n",
    "    \"\"\"\n",
    "    Z = clf.predict(np.c_[xx.ravel(), yy.ravel()])\n",
    "    Z = Z.reshape(xx.shape)\n",
    "    out = ax.contourf(xx, yy, Z, **params)\n",
    "    return out"
   ]
  },
  {
   "cell_type": "code",
   "execution_count": 140,
   "metadata": {},
   "outputs": [],
   "source": [
    "def genpoints(xmin,xmax,ymin,ymax,Np):\n",
    "    xx = np.linspace(xmin,xmax,Np)\n",
    "    yy = np.linspace(ymin,ymax,Np)\n",
    "    c = 1\n",
    "    P = []\n",
    "    for i in range(Np):\n",
    "        for j in range(Np):\n",
    "            P.append([xx[i],yy[j]])\n",
    "    return np.array(P)"
   ]
  },
  {
   "cell_type": "code",
   "execution_count": 267,
   "metadata": {},
   "outputs": [],
   "source": []
  },
  {
   "cell_type": "code",
   "execution_count": null,
   "metadata": {},
   "outputs": [],
   "source": [
    "def babba(m):\n",
    "    d = iter(m.parameters())\n",
    "    for layer in range(m.returnLength(i))"
   ]
  },
  {
   "cell_type": "code",
   "execution_count": 42,
   "metadata": {},
   "outputs": [],
   "source": [
    "   import torch\n",
    "import torch.nn as nn\n",
    "from torchdiffeq import odeint\n",
    "import torch.nn.functional as F\n",
    "from operator import add\n",
    "import matplotlib.pyplot as plt\n",
    "\n",
    "if torch.cuda.is_available():\n",
    "    device = torch.device('cuda')\n",
    "else:\n",
    "    device = torch.device('cpu')\n",
    "\n",
    "# main class for all the ugly shit\n",
    "class HDNN(nn.Module):\n",
    "    def __init__(self, dense_layers, hparams, beta):\n",
    "        '''\n",
    "        High level wrapper of a Hamiltonian Differential Neural Network\n",
    "        \n",
    "        :dense_layer: list of dimensions of linear layers of the chosen HDNN predictor \\\n",
    "        (e.g [12,24,2] for 12-dimensional inputs and output size 2)\n",
    "        :hparams: list [a,b,c] of loss function hyperparameters\n",
    "        :beta: beta of F function of the weight dynamics\n",
    "        \n",
    "        NOTE: c term of the loss NOT implemented yet (no regularization). CUDA memory requirement for big \n",
    "        nets is rather big (not optimized)\n",
    "        '''\n",
    "        # initialize superclass method\n",
    "        super().__init__()\n",
    "        \n",
    "        # create an attribute for HDNN for its predictor\n",
    "        self.dense_layers = dense_layers\n",
    "        self.predictor = MLP(self.dense_layers).to(device)\n",
    "        \n",
    "        # attribute self.len: each hidden layer has its own weight and bias tensors in self.predictor.state_dict() \\\n",
    "        # thus 2*(number of layers - 1)\n",
    "        self.len = 2*(len(dense_layers)-1)\n",
    "        \n",
    "        # faster way to call predictor.parameters()\n",
    "        self.p = self.predictor.parameters()\n",
    "        \n",
    "        # atm useless routine to calculate shapes of predictor.parameters() tensors at different layers\n",
    "        # UNUSED\n",
    "        #shape = []\n",
    "        #itr = iter(self.predictor.parameters())\n",
    "        #for i in range(self.len):\n",
    "        #    p = next(itr)\n",
    "        #    shape.append(p.shape)\n",
    "        #self.shape = shape\n",
    "        \n",
    "        # simple assignment routine\n",
    "        self.hparams = hparams\n",
    "        self.dJ,self.dJddw = [], []\n",
    "        self.beta = beta\n",
    "        \n",
    "        # creating weights and weight velocity lists of tensors according to predictor.state_dict()\n",
    "        self.w,self.wdot = self.createStateVector(True,True)\n",
    "        \n",
    "        # creating flattened versions of self.w and self.wdot for gradient and state computations\n",
    "        self.flat_w = self.flattenParamVector(False) \n",
    "        self.flat_wdot = self.flattenParamVector(True)\n",
    "        self.count = 0\n",
    "        \n",
    "        #time counter for loss and parameter plotting\n",
    "        self.time = 0 \n",
    "        self.pLoss = []\n",
    "        self.pW = []\n",
    "        self.pWdot = []\n",
    "        self.initializeRecord()\n",
    "        \n",
    "    def createStateVector(self,velocity=True,first_instance=True):\n",
    "        w = []\n",
    "        wdot = []\n",
    "        itr = iter(self.predictor.parameters())\n",
    "        for i in range(self.getLength()):\n",
    "            param = next(itr)\n",
    "            w.append(param.to(device))\n",
    "            if first_instance:\n",
    "                wdot.append(torch.rand((param.shape)).to(device))\n",
    "        if velocity == True: return w,wdot\n",
    "        else: return w\n",
    "    \n",
    "    def flattenParamVector(self,velocity=True):\n",
    "        itr = iter(self.predictor.parameters())         \n",
    "        if not velocity:\n",
    "            w = next(itr).view(-1).to(device)\n",
    "            for i in range(1,self.getLength()):\n",
    "                w = torch.cat((w,(next(itr).view(-1)).to(device)))\n",
    "        else:\n",
    "            w = self.wdot[0].view(-1).to(device)\n",
    "            for i in range(1,self.getLength()):\n",
    "                w = torch.cat((w,self.wdot[i].view(-1).to(device)))\n",
    "        return w\n",
    "\n",
    "    def makeFMatrix(self):\n",
    "            n = len(self.flat_dJ)\n",
    "            In = torch.eye(n).to(device)\n",
    "            On = torch.zeros((n,n)).to(device)\n",
    "            B = self.beta*In          \n",
    "            F = torch.cat((torch.cat((On,In),1),torch.cat((-In,-B),1)),0)\n",
    "            return F\n",
    "        \n",
    "    \n",
    "    def Gradient(self):\n",
    "        itr = iter(self.predictor.parameters())\n",
    "        dJddw = 2.*self.hparams[1]*self.flat_wdot\n",
    "        #for idx,params in enumerate(self.wdot):\n",
    "        #dJddw.append(2.*self.hparams[1]*self.wdot[idx])\n",
    "        dJ_reg = 2.*self.hparams[2]*self.flat_w\n",
    "        dJ = list(map(add,[next(itr).grad for i in range(self.getLength())],dJ_reg))\n",
    "        self.dJ,self.dJddw = dJ, dJddw \n",
    "        \n",
    "    def additionalTermsLoss(self):\n",
    "        return torch.add(self.hparams[1]*torch.dot(self.flat_wdot,self.flat_wdot),\\\n",
    "        self.hparams[2]*torch.dot(self.flat_w,self.flat_w))\n",
    "    \n",
    "    def assignNewState(self,xi):\n",
    "        self.flat_w = xi[:len(self.flat_w)]\n",
    "        self.flat_wdot = xi[len(self.flat_w):2*len(self.flat_w)] \n",
    "        k = 0\n",
    "        for i in range(self.getLength()):\n",
    "            self.w[i] = self.flat_w[k:k+torch.numel(self.w[i])].view(self.w[i].shape)\n",
    "            self.wdot[i] = self.flat_wdot[k:k+torch.numel(self.wdot[i])].view(self.wdot[i].shape)\n",
    "            k += torch.numel(self.w[i])\n",
    "        \n",
    "    def loadStateDict(self):    \n",
    "        new_state_dict = self.makeStateDict()\n",
    "        self.predictor = MLP(self.dense_layers).to(device)\n",
    "        self.predictor.load_state_dict(new_state_dict)\n",
    "        \n",
    "    def makeStateDict(self):\n",
    "        d = {}\n",
    "        for i,key in enumerate(self.predictor.state_dict().keys()):\n",
    "                d[key] = self.w[i]\n",
    "        return d\n",
    "    \n",
    "    @staticmethod\n",
    "    def makeGenerator(lt):\n",
    "        for i,d in enumerate(lt):\n",
    "            yield d\n",
    "    \n",
    "    def flattenGradient(self):\n",
    "        dJ = self.dJ[0].view(-1)\n",
    "        #dJddw = self.dJddw[0].view(-1)\n",
    "        for i in range(1,self.getLength()):\n",
    "            dJ = torch.cat((dJ,self.dJ[i].view(-1)))\n",
    "            #dJddw = torch.cat((dJddw,self.dJddw[i].view(-1)))\n",
    "        return dJ, self.dJddw\n",
    "    \n",
    "    def assignFlatGradient(self):\n",
    "        self.flat_dJ,self.flat_dJddw = self.flattenGradient()\n",
    "    \n",
    "    def getConcatGradient(self):\n",
    "        return torch.cat((self.flat_dJ,self.flat_dJddw))\n",
    "    \n",
    "    def fixInputOutput(self,x,y):\n",
    "        self.x = x\n",
    "        self.y = y\n",
    "        \n",
    "    def setXi(self):\n",
    "        self.xi = torch.cat((self.flat_w,self.flat_wdot))\n",
    "\n",
    "    def getLength(self):\n",
    "        return self.len\n",
    "    \n",
    "    def getParamShape(self):\n",
    "        return self.shape\n",
    "    \n",
    "    def pred_accuracy(self,testloader):\n",
    "        tot = 0\n",
    "        count = 0\n",
    "        for i,d in enumerate(testloader):\n",
    "            x,y = d\n",
    "            x,y = x.to(0),y.to(0)\n",
    "            _, idx = torch.max(torch.exp(self.predictor.forward(x)),1)  \n",
    "            for i in range(len(idx)):\n",
    "                if idx[i] == y[i]:\n",
    "                    count += 1\n",
    "                tot += 1\n",
    "        return count/tot\n",
    "    \n",
    "    def initializeRecord(self):\n",
    "        for i in range(len(self.flat_w)):\n",
    "            self.pW.append([])\n",
    "            self.pWdot.append([])\n",
    "            \n",
    "    def recordLoss(self,main_loss,additional_terms_loss,delta_t):\n",
    "        if self.time % delta_t == 0:\n",
    "            self.pLoss.append(main_loss+additional_terms_loss)\n",
    "    \n",
    "    def plotLoss(self):\n",
    "        plt.plot(self.pLoss, color='red')\n",
    "        plt.ylabel('Loss')\n",
    "        plt.xlabel('time (delta_t units)')\n",
    "        \n",
    "    def recordParameters(self,pW,pWdot,delta_t):\n",
    "        if self.time % delta_t == 0:\n",
    "            for i in range(len(pW)):\n",
    "                self.pW[i].append(pW[i].cpu().detach().numpy()) \n",
    "                self.pWdot[i].append(pWdot[i].cpu().detach().numpy()) \n",
    "        \n",
    "    def plotParameters(self):\n",
    "        for i in range(len(self.pW)):\n",
    "            plt.plot(self.pW[i])\n",
    "            \n",
    "    def plotVelocities(self):\n",
    "        for i in range(len(self.pW)):\n",
    "            plt.plot(self.pWdot[i])\n",
    "            \n",
    "    def forward(self,t,xi):\n",
    "        self.assignNewState(xi)\n",
    "        self.loadStateDict()\n",
    "        self.optimizer = torch.optim.Adam(self.predictor.parameters())\n",
    "        self.optimizer.zero_grad()\n",
    "        yhat = self.predictor.forward(self.x)\n",
    "        loss = self.criterion(yhat,self.y)#self.additionalTermsLoss())\n",
    "        loss.backward(retain_graph=True)\n",
    "             \n",
    "        #self.recordLoss(loss,self.additionalTermsLoss(),self.time_delta)\n",
    "        #self.recordParameters(self.flat_w,self.flat_wdot,self.time_delta)\n",
    "        \n",
    "        self.Gradient()\n",
    "        self.assignFlatGradient()\n",
    "        F = self.makeFMatrix() \n",
    "        grad_flat = self.getConcatGradient()\n",
    "        dxdt = torch.matmul(F,grad_flat)\n",
    "        \n",
    "        #timer for parent\n",
    "        self.time += 1\n",
    "        return dxdt \n",
    "    \n",
    "    def fit(self, trainloader, epoch = 3, time_delta = 1, iter_accuracy = 10, t_odeint = 10):\n",
    "        '''\n",
    "        :trainloader: DataLoader with training data\n",
    "        :epoch: number of training epochs\n",
    "        :time_delta: time steps required for a single recording of loss and parameters. Higher is better for speed\n",
    "        :iter_accuracy: iterations until test accuracy is displayed\n",
    "        :t_odeint: number of odeint time steps (per batch)\n",
    "        '''\n",
    "        \n",
    "        self.criterion = F.nll_loss    \n",
    "        t = torch.linspace(.0, .25, t_odeint)\n",
    "        self.setXi()\n",
    "        self.time_delta = time_delta\n",
    "        for e in range(epoch): \n",
    "            for i, data in enumerate(trainloader): \n",
    "                x,y= data\n",
    "                x,y = x.to(device),y.to(device)             \n",
    "                self.fixInputOutput(x,y)\n",
    "                self.optimizer = torch.optim.Adam(self.predictor.parameters())\n",
    "                self.optimizer.zero_grad()\n",
    "                #dynamics = HDNN(self.getConcatGradient(),self.dJ,self.flat_dJ,self.beta)\n",
    "                func = self\n",
    "                xi = odeint(func, self.xi, t)                \n",
    "                self.xi = xi[-1]\n",
    "                self.assignNewState(xi[-1])\n",
    "                self.loadStateDict()\n",
    "                self.count += 1                \n",
    "                if self.count % iter_accuracy == 0 and self.count != 0:\n",
    "                    print('Number of odeint and parameters reassignment iterations: {}'.format(self.count))\n",
    "                    print('In-training accuracy estimate: {}'.format(self.pred_accuracy(trainloader)))\n",
    "  \n",
    "\n",
    "                  \n",
    "# class that handles the internal odeint loop\n",
    "# CURRENTLY UNUSED\n",
    "                    \n",
    "class HamiltonianDynamics(nn.Module):\n",
    "    def __init__(self, HDNN, criterion, optimizer, x, y, time_delta):\n",
    "        super().__init__()\n",
    "        self.parent = HDNN\n",
    "        self.criterion = criterion\n",
    "        self.optimizer = optimizer\n",
    "        self.x = x\n",
    "        self.y = y\n",
    "        \n",
    "        # time delta for recording purposes (loss and parameters)\n",
    "        self.time_delta = time_delta\n",
    "        \n",
    "    def forward(self,t,xi):\n",
    "        self.parent.assignNewState(xi)\n",
    "        self.parent.loadStateDict()\n",
    "        self.optimizer = torch.optim.Adam(self.parent.predictor.parameters())\n",
    "        self.optimizer.zero_grad()\n",
    "        yhat = self.parent.predictor.forward(self.x)\n",
    "        loss = self.criterion(yhat,self.y)#self.additionalTermsLoss())\n",
    "        loss.backward(retain_graph=True)\n",
    "        \n",
    "        self.parent.recordLoss(loss,self.parent.additionalTermsLoss(),self.time_delta)\n",
    "        self.parent.recordParameters(self.parent.flat_w,self.parent.flat_wdot,self.time_delta)\n",
    "        \n",
    "        self.parent.Gradient()\n",
    "        self.parent.assignFlatGradient()\n",
    "        F = self.parent.makeFMatrix() \n",
    "        grad_flat = self.parent.getConcatGradient()\n",
    "        dxdt = torch.matmul(F,grad_flat)\n",
    "        \n",
    "        #timer for parent\n",
    "        self.parent.time += 1\n",
    "        return dxdt   \n",
    "\n",
    "# predictor class \n",
    "class MLP(nn.Module):\n",
    "    def __init__(self, dense_layers):\n",
    "        '''\n",
    "        Simple dense MLP class used as predictor for HDNN\n",
    "        \n",
    "        :smax_l: leave True for softmax applied to ouput\n",
    "        '''\n",
    "        super().__init__()\n",
    "        self.dense_layers = nn.ModuleList([nn.Linear(dense_layers[i], dense_layers[i + 1]) \\\n",
    "                                           for i in range(len(dense_layers) - 1)])\n",
    "    def getLength(self):\n",
    "        return len(self.dense_layers)\n",
    "\n",
    "    def forward(self, x):\n",
    "        x = x.view(x.size(0), -1)\n",
    "        for l in self.dense_layers:\n",
    "            l_x = l(x)\n",
    "            x = F.relu(l_x)\n",
    "        return F.log_softmax(l_x,dim=-1)\n",
    "\n",
    "# USELESS for now\n",
    "class HDNN_adjoint(nn.Module):\n",
    "    def __init__(self, grad_flat, dJ, flat_dJ,beta):\n",
    "        super().__init__()\n",
    "        self.grad_flat = grad_flat\n",
    "        self.dJ = dJ\n",
    "        self.flat_dJ = flat_dJ\n",
    "        self.beta = beta\n",
    "            \n",
    "    def HamiltonianModel(self,t):\n",
    "        #for i,d in enumerate(self.dJ):\n",
    "        n = len(self.flat_dJ)\n",
    "        In = torch.eye(n).to(device)\n",
    "        On = torch.zeros((n,n)).to(device)\n",
    "        B = self.beta*In\n",
    "        F = torch.cat((torch.cat((On,In),1),torch.cat((-In,-B),1)),0)\n",
    "        print(F.shape,self.grad_flat.shape)\n",
    "        dxdt = torch.matmul(F,self.grad_flat)\n",
    "        return dxdt                    "
   ]
  },
  {
   "cell_type": "code",
   "execution_count": null,
   "metadata": {},
   "outputs": [],
   "source": []
  },
  {
   "cell_type": "code",
   "execution_count": null,
   "metadata": {},
   "outputs": [],
   "source": []
  }
 ],
 "metadata": {
  "kernelspec": {
   "display_name": "Python 3",
   "language": "python",
   "name": "python3"
  },
  "language_info": {
   "codemirror_mode": {
    "name": "ipython",
    "version": 3
   },
   "file_extension": ".py",
   "mimetype": "text/x-python",
   "name": "python",
   "nbconvert_exporter": "python",
   "pygments_lexer": "ipython3",
   "version": "3.7.2"
  }
 },
 "nbformat": 4,
 "nbformat_minor": 2
}
